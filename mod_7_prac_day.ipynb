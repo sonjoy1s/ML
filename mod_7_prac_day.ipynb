{
  "nbformat": 4,
  "nbformat_minor": 0,
  "metadata": {
    "colab": {
      "provenance": [],
      "authorship_tag": "ABX9TyP61IqpsG4ahyQ+meCcbezO",
      "include_colab_link": true
    },
    "kernelspec": {
      "name": "python3",
      "display_name": "Python 3"
    },
    "language_info": {
      "name": "python"
    }
  },
  "cells": [
    {
      "cell_type": "markdown",
      "metadata": {
        "id": "view-in-github",
        "colab_type": "text"
      },
      "source": [
        "<a href=\"https://colab.research.google.com/github/sonjoy1s/ML/blob/main/mod_7_prac_day.ipynb\" target=\"_parent\"><img src=\"https://colab.research.google.com/assets/colab-badge.svg\" alt=\"Open In Colab\"/></a>"
      ]
    },
    {
      "cell_type": "code",
      "execution_count": 10,
      "metadata": {
        "colab": {
          "base_uri": "https://localhost:8080/"
        },
        "id": "4-j8LMksuHTJ",
        "outputId": "9f23acef-e954-476c-ea87-6cfd76d3698f"
      },
      "outputs": [
        {
          "output_type": "stream",
          "name": "stdout",
          "text": [
            "Rahim Karim Sakib Jamal\n",
            "Sakib Jamal Rafiq Nadim\n",
            "Mutual friends: {'Sakib', 'Jamal'}\n",
            "Unique to A: {'Rahim', 'Karim'}\n",
            "Unique to B: {'Rafiq', 'Nadim'}\n",
            "Total unique friends: 6\n"
          ]
        }
      ],
      "source": [
        "#Given two sets of friends from two people, find the mutual friends,\n",
        "#unique friends of each, and the total number of unique friends.\n",
        "\n",
        "set1 =set(input().split())\n",
        "set2 = set(input().split())\n",
        "mutual_friends = set1.intersection(set2) # intersection method diye common Ghula ber kora hoy\n",
        "\n",
        "unique_to_set1 = set(set1 - mutual_friends) # common value badh deyar por koy value ache\n",
        "\n",
        "unique_to_set2 = set(set2 - mutual_friends) # common value badh deyar por koy value ache\n",
        "\n",
        "number_set = len(set1.union(set2)) # ei khane Union kore len ber korchi word er\n",
        "\n",
        "print(f\"Mutual friends: {mutual_friends}\")\n",
        "print(f\"Unique to A: {unique_to_set1}\")\n",
        "print(f\"Unique to B: {unique_to_set2}\")\n",
        "print(f\"Total unique friends: {number_set}\")"
      ]
    },
    {
      "cell_type": "code",
      "source": [
        "words = list(input().split())\n",
        "wordss = list(filter(lambda word : len(word) > 4, words))\n",
        "print(wordss)"
      ],
      "metadata": {
        "colab": {
          "base_uri": "https://localhost:8080/"
        },
        "id": "K4K7mEvN7jAS",
        "outputId": "23002723-ee8c-4d8f-f0f4-9c656ed4d9aa"
      },
      "execution_count": 11,
      "outputs": [
        {
          "output_type": "stream",
          "name": "stdout",
          "text": [
            "sun planet moon star universe\n",
            "['planet', 'universe']\n"
          ]
        }
      ]
    },
    {
      "cell_type": "code",
      "source": [
        "# Write a one-line Python expression using map(), filter(), and lambda that takes\n",
        "#a list of integers and returns the squares of even numbers only.\n",
        "nums = list(map(int, input().split()))\n",
        "sq_of_even = list(map(lambda x: x**2, filter(lambda x: x % 2 == 0, nums)))\n",
        "print(sq_of_even)"
      ],
      "metadata": {
        "colab": {
          "base_uri": "https://localhost:8080/"
        },
        "id": "5vCvchH--QAo",
        "outputId": "3dbd8e0d-763e-4516-8faf-9432a5107938"
      },
      "execution_count": 12,
      "outputs": [
        {
          "output_type": "stream",
          "name": "stdout",
          "text": [
            "1 2 3 4 5 6\n",
            "[4, 16, 36]\n"
          ]
        }
      ]
    },
    {
      "cell_type": "code",
      "source": [
        "n = int(input())\n",
        "students =[]\n",
        "for i in range(n):\n",
        "  data = input({i+1}).split()\n",
        "  name = data[0].capitalize()\n",
        "  mark = int(data[1])\n",
        "  students.append(name,mark)\n",
        "  student_num = sorted(students, key =lambda x:x[1],reverse=True)\n",
        "  top_three = student_num[:3]\n",
        "  for student in top_three:\n",
        "    print(f\"{student[0]} : {student[1]}\")"
      ],
      "metadata": {
        "colab": {
          "base_uri": "https://localhost:8080/",
          "height": 245
        },
        "id": "3AK8_Y-1_3NB",
        "outputId": "965dc2c1-4d18-444c-ea56-92ef8deaa2de"
      },
      "execution_count": 15,
      "outputs": [
        {
          "name": "stdout",
          "output_type": "stream",
          "text": [
            " [(\"Rafi\", 89), (\"Sumi\", 95), (\"Hasan\", 90), (\"Nila\", 75), (\"Anik\", 98)]\n"
          ]
        },
        {
          "output_type": "error",
          "ename": "ValueError",
          "evalue": "invalid literal for int() with base 10: ' [(\"Rafi\", 89), (\"Sumi\", 95), (\"Hasan\", 90), (\"Nila\", 75), (\"Anik\", 98)]'",
          "traceback": [
            "\u001b[0;31m---------------------------------------------------------------------------\u001b[0m",
            "\u001b[0;31mValueError\u001b[0m                                Traceback (most recent call last)",
            "\u001b[0;32m/tmp/ipython-input-1805863009.py\u001b[0m in \u001b[0;36m<cell line: 0>\u001b[0;34m()\u001b[0m\n\u001b[0;32m----> 1\u001b[0;31m \u001b[0mn\u001b[0m \u001b[0;34m=\u001b[0m \u001b[0mint\u001b[0m\u001b[0;34m(\u001b[0m\u001b[0minput\u001b[0m\u001b[0;34m(\u001b[0m\u001b[0;34m)\u001b[0m\u001b[0;34m)\u001b[0m\u001b[0;34m\u001b[0m\u001b[0;34m\u001b[0m\u001b[0m\n\u001b[0m\u001b[1;32m      2\u001b[0m \u001b[0mstudents\u001b[0m \u001b[0;34m=\u001b[0m\u001b[0;34m[\u001b[0m\u001b[0;34m]\u001b[0m\u001b[0;34m\u001b[0m\u001b[0;34m\u001b[0m\u001b[0m\n\u001b[1;32m      3\u001b[0m \u001b[0;32mfor\u001b[0m \u001b[0mi\u001b[0m \u001b[0;32min\u001b[0m \u001b[0mrange\u001b[0m\u001b[0;34m(\u001b[0m\u001b[0mn\u001b[0m\u001b[0;34m)\u001b[0m\u001b[0;34m:\u001b[0m\u001b[0;34m\u001b[0m\u001b[0;34m\u001b[0m\u001b[0m\n\u001b[1;32m      4\u001b[0m   \u001b[0mdata\u001b[0m \u001b[0;34m=\u001b[0m \u001b[0minput\u001b[0m\u001b[0;34m(\u001b[0m\u001b[0;34m{\u001b[0m\u001b[0mi\u001b[0m\u001b[0;34m+\u001b[0m\u001b[0;36m1\u001b[0m\u001b[0;34m}\u001b[0m\u001b[0;34m)\u001b[0m\u001b[0;34m.\u001b[0m\u001b[0msplit\u001b[0m\u001b[0;34m(\u001b[0m\u001b[0;34m)\u001b[0m\u001b[0;34m\u001b[0m\u001b[0;34m\u001b[0m\u001b[0m\n\u001b[1;32m      5\u001b[0m   \u001b[0mname\u001b[0m \u001b[0;34m=\u001b[0m \u001b[0mdata\u001b[0m\u001b[0;34m[\u001b[0m\u001b[0;36m0\u001b[0m\u001b[0;34m]\u001b[0m\u001b[0;34m.\u001b[0m\u001b[0mcapitalize\u001b[0m\u001b[0;34m(\u001b[0m\u001b[0;34m)\u001b[0m\u001b[0;34m\u001b[0m\u001b[0;34m\u001b[0m\u001b[0m\n",
            "\u001b[0;31mValueError\u001b[0m: invalid literal for int() with base 10: ' [(\"Rafi\", 89), (\"Sumi\", 95), (\"Hasan\", 90), (\"Nila\", 75), (\"Anik\", 98)]'"
          ]
        }
      ]
    }
  ]
}