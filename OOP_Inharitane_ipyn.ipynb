{
  "nbformat": 4,
  "nbformat_minor": 0,
  "metadata": {
    "colab": {
      "provenance": [],
      "authorship_tag": "ABX9TyNBsVtUz8hAx61k2BdLk9fQ",
      "include_colab_link": true
    },
    "kernelspec": {
      "name": "python3",
      "display_name": "Python 3"
    },
    "language_info": {
      "name": "python"
    }
  },
  "cells": [
    {
      "cell_type": "markdown",
      "metadata": {
        "id": "view-in-github",
        "colab_type": "text"
      },
      "source": [
        "<a href=\"https://colab.research.google.com/github/sonjoy1s/ML/blob/main/OOP_Inharitane_ipyn.ipynb\" target=\"_parent\"><img src=\"https://colab.research.google.com/assets/colab-badge.svg\" alt=\"Open In Colab\"/></a>"
      ]
    },
    {
      "cell_type": "code",
      "execution_count": 2,
      "metadata": {
        "colab": {
          "base_uri": "https://localhost:8080/"
        },
        "id": "1hOKMmRw-Our",
        "outputId": "9af83e5d-6202-4ebb-9190-4f7ee582f706"
      },
      "outputs": [
        {
          "output_type": "stream",
          "name": "stdout",
          "text": [
            "Hello\n"
          ]
        }
      ],
      "source": [
        "from abc import ABC, abstractmethod\n",
        "class Greet(ABC):\n",
        "  @abstractmethod\n",
        "  def say_hello(self):\n",
        "    pass  #abstractmethod\n",
        "\n",
        "class English(Greet):\n",
        "  def say_hello(self):\n",
        "    return \"Hello\"\n",
        "\n",
        "\n",
        "g = English()\n",
        "print(g.say_hello())"
      ]
    },
    {
      "cell_type": "code",
      "source": [
        "class Animal:\n",
        "  def __init__(self,name):\n",
        "    self.name = name\n",
        "  def speak(self):\n",
        "    return \"Some sound\"  # Animal class e ekta speak() method ache return korbe\n",
        "                         #Some sound"
      ],
      "metadata": {
        "id": "Y27j-t0hBYbG"
      },
      "execution_count": 4,
      "outputs": []
    },
    {
      "cell_type": "code",
      "source": [
        "class Dog(Animal):\n",
        "  def __init__(self, name,breed):\n",
        "    super().__init__(name)\n",
        "    self.breed = breed\n",
        "\n",
        "  def speak(self):\n",
        "    return \"Woof\"\n",
        "\n",
        "\n",
        "a = Animal(\"Generic\")\n",
        "d = Dog(\"Bruno\",\"Bulldog\")\n",
        "print(\"Animal say :\", a.speak())\n",
        "print(f\"Dog {d.breed} says:\", d.speak())\n"
      ],
      "metadata": {
        "colab": {
          "base_uri": "https://localhost:8080/"
        },
        "id": "As-RjMsgCaEy",
        "outputId": "12aa6a95-9cc4-4997-9057-e52e07e38d0b"
      },
      "execution_count": 5,
      "outputs": [
        {
          "output_type": "stream",
          "name": "stdout",
          "text": [
            "Animal say : Some sound\n",
            "Dog Bulldog says: Woof\n"
          ]
        }
      ]
    },
    {
      "cell_type": "code",
      "source": [
        "class Person :\n",
        "  def __init__(self, fristName, lastName, idNumber):\n",
        "    self.fristName = fristName\n",
        "    self.lastName = lastName\n",
        "    self.idNumber = idNumber\n",
        "\n",
        "  def printPerson(self):\n",
        "   print(f\"Name : {self.fristName} {self.lastName}\")\n",
        "   print(f\"ID : {self.idNumber}\")"
      ],
      "metadata": {
        "id": "fjMrHyiITfHP"
      },
      "execution_count": 10,
      "outputs": []
    },
    {
      "cell_type": "code",
      "source": [
        "class student(Person):\n",
        "  def __init__(self, fristName, lastName, idNumber, score):\n",
        "    super().__init__(fristName, lastName, idNumber)\n",
        "    self.score = score\n",
        "\n",
        "  def calculate(self):\n",
        "    avg = sum(self.score) / len(self.score)\n",
        "    if 90<=avg<=100:\n",
        "      return \"Golden A+\"\n",
        "    elif 80<=avg<90:\n",
        "      return \"A+\"\n",
        "    elif 70<=avg<80:\n",
        "      return \"A\"\n",
        "    elif 55<=avg<70:\n",
        "      return \"B\"\n",
        "    elif 40<=avg<55 :\n",
        "      return \"C\"\n",
        "    else :\n",
        "      return \"F\"\n",
        "\n",
        "s = student(\"Sonjoy\",\"Chandra\",841,[100,80,90])\n",
        "s.printPerson()\n",
        "print(f\"Grade : {s.calculate()}\")"
      ],
      "metadata": {
        "colab": {
          "base_uri": "https://localhost:8080/"
        },
        "id": "FISxjy9eXZqm",
        "outputId": "fbcc70be-2eb0-479e-806b-01ddc2d3cc2d"
      },
      "execution_count": 12,
      "outputs": [
        {
          "output_type": "stream",
          "name": "stdout",
          "text": [
            "Name : Sonjoy Chandra\n",
            "ID : 841\n",
            "Grade : Golden A+\n"
          ]
        }
      ]
    }
  ]
}