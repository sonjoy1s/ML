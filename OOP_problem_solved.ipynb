{
  "nbformat": 4,
  "nbformat_minor": 0,
  "metadata": {
    "colab": {
      "provenance": [],
      "authorship_tag": "ABX9TyOxQwk+3p8zyAYwidC62+za",
      "include_colab_link": true
    },
    "kernelspec": {
      "name": "python3",
      "display_name": "Python 3"
    },
    "language_info": {
      "name": "python"
    }
  },
  "cells": [
    {
      "cell_type": "markdown",
      "metadata": {
        "id": "view-in-github",
        "colab_type": "text"
      },
      "source": [
        "<a href=\"https://colab.research.google.com/github/sonjoy1s/ML/blob/main/OOP_problem_solved.ipynb\" target=\"_parent\"><img src=\"https://colab.research.google.com/assets/colab-badge.svg\" alt=\"Open In Colab\"/></a>"
      ]
    },
    {
      "cell_type": "code",
      "source": [],
      "metadata": {
        "id": "DGjDxdg5x6Bt"
      },
      "execution_count": null,
      "outputs": []
    },
    {
      "cell_type": "markdown",
      "source": [
        "1.Make three classes:"
      ],
      "metadata": {
        "id": "f3TIRrdAx77U"
      }
    },
    {
      "cell_type": "code",
      "execution_count": 37,
      "metadata": {
        "id": "8MBH9IWHZVyy"
      },
      "outputs": [],
      "source": [
        "class Phone:\n",
        "  def __init__(self, model, battery =100):\n",
        "    self.model = model\n",
        "    self.__battery = battery\n"
      ]
    },
    {
      "cell_type": "code",
      "source": [
        "class SmartPhone(Phone):\n",
        "  def __init__(self, model,operating_system, battery=100):\n",
        "    super().__init__(model, battery)\n",
        "    self.operating_system = operating_system\n"
      ],
      "metadata": {
        "id": "RI2MwqdYeZue"
      },
      "execution_count": 38,
      "outputs": []
    },
    {
      "cell_type": "code",
      "source": [
        "class GamingPhone(SmartPhone):\n",
        "  def __init__(self, model, operating_system, cooling_system, battery = 100):\n",
        "    super().__init__(model, operating_system, battery)\n",
        "    self.cooling_system = cooling_system\n",
        "  def start_game(self, name):\n",
        "    print(f\"Starting Game {name} on {self.model}\")\n",
        "\n",
        "\n",
        "gm1 = GamingPhone(\"Iphne-17\",\"Apple\",\"Liquid Cooling\") # eita call korbe Gaming class ke\n",
        "gm1.start_game(\"E-Football\")\n"
      ],
      "metadata": {
        "colab": {
          "base_uri": "https://localhost:8080/"
        },
        "id": "7chlieLagIEq",
        "outputId": "e48126f4-aa82-4efe-91d1-cbb27b9fb0d7"
      },
      "execution_count": 39,
      "outputs": [
        {
          "output_type": "stream",
          "name": "stdout",
          "text": [
            "Starting Game E-Football on Iphne-17\n"
          ]
        }
      ]
    },
    {
      "cell_type": "code",
      "source": [],
      "metadata": {
        "id": "mcIoZ31nxviC"
      },
      "execution_count": null,
      "outputs": []
    },
    {
      "cell_type": "markdown",
      "source": [
        "###2. Make a class MobilePhone with:"
      ],
      "metadata": {
        "id": "hEI9PReKxwzV"
      }
    },
    {
      "cell_type": "code",
      "source": [
        "class MobilePhone:\n",
        "  def __init__(self, model, battery=100):\n",
        "    self.model = model\n",
        "    self.__battery = battery\n",
        "\n",
        "  def use(self, amount):\n",
        "    self.__battery = max(0, self.__battery - amount)\n",
        "    print(f\"Used {amount}%. Battery now: {self.__battery}%\")\n",
        "\n",
        "  def charge(self, amount):\n",
        "    self.__battery = min(100, self.__battery + amount)\n",
        "    print(f\"Charged {amount}%. Battery now: {self.__battery}%\")\n",
        "\n",
        "  def get_battery(self):\n",
        "    return self.__battery\n",
        "\n",
        "# Demonstrate that __battery cannot be accessed directly\n",
        "m1 = MobilePhone(\"Nokia 3310\")\n",
        "m1.use(30)\n",
        "print(\"Battery Level:\", m1.get_battery())\n",
        "m1.charge(50)\n",
        "print(\"Battery Level:\", m1.get_battery())\n",
        "\n",
        "# Trying to access private variable directly\n",
        "try:\n",
        "  print(m1.__battery)\n",
        "except AttributeError as e:\n",
        "  print(f\"Error: {e}\")"
      ],
      "metadata": {
        "colab": {
          "base_uri": "https://localhost:8080/"
        },
        "id": "T0Wcb1Rtj4KG",
        "outputId": "b1683ac3-beb0-4bcc-e0bb-3f4f03d577bf"
      },
      "execution_count": 40,
      "outputs": [
        {
          "output_type": "stream",
          "name": "stdout",
          "text": [
            "Used 30%. Battery now: 70%\n",
            "Battery Level: 70\n",
            "Charged 50%. Battery now: 100%\n",
            "Battery Level: 100\n",
            "Error: 'MobilePhone' object has no attribute '__battery'\n"
          ]
        }
      ]
    }
  ]
}