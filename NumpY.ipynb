{
  "nbformat": 4,
  "nbformat_minor": 0,
  "metadata": {
    "colab": {
      "provenance": [],
      "authorship_tag": "ABX9TyMDRYXMsbKdGLEVsblC5GIa",
      "include_colab_link": true
    },
    "kernelspec": {
      "name": "python3",
      "display_name": "Python 3"
    },
    "language_info": {
      "name": "python"
    }
  },
  "cells": [
    {
      "cell_type": "markdown",
      "metadata": {
        "id": "view-in-github",
        "colab_type": "text"
      },
      "source": [
        "<a href=\"https://colab.research.google.com/github/sonjoy1s/ML/blob/main/NumpY.ipynb\" target=\"_parent\"><img src=\"https://colab.research.google.com/assets/colab-badge.svg\" alt=\"Open In Colab\"/></a>"
      ]
    },
    {
      "cell_type": "code",
      "execution_count": 8,
      "metadata": {
        "colab": {
          "base_uri": "https://localhost:8080/"
        },
        "id": "uTzqP3Md6Qql",
        "outputId": "344fef3f-1ef8-415f-e366-e5f1aed2ace0"
      },
      "outputs": [
        {
          "output_type": "stream",
          "name": "stdout",
          "text": [
            "[[[0 0 0]\n",
            "  [0 0 0]\n",
            "  [0 0 0]\n",
            "  [0 0 0]]\n",
            "\n",
            " [[0 0 0]\n",
            "  [0 0 0]\n",
            "  [0 0 0]\n",
            "  [0 0 0]]\n",
            "\n",
            " [[0 0 0]\n",
            "  [0 0 0]\n",
            "  [0 0 0]\n",
            "  [0 0 0]]\n",
            "\n",
            " [[0 0 0]\n",
            "  [0 0 0]\n",
            "  [0 0 0]\n",
            "  [0 0 0]]]\n"
          ]
        }
      ],
      "source": [
        "#np.zeros() -> 0 diye array banai\n",
        "import numpy as np\n",
        "arr = np.zeros((4,4,3),dtype =np.int8)\n",
        "print(arr)"
      ]
    },
    {
      "cell_type": "code",
      "source": [
        "arr2 =np.zeros_like(arr)\n",
        "print(arr2)"
      ],
      "metadata": {
        "colab": {
          "base_uri": "https://localhost:8080/"
        },
        "id": "Cavw9o6R7KcP",
        "outputId": "c4d398bb-8628-4be3-e795-fda3254ceaa8"
      },
      "execution_count": 4,
      "outputs": [
        {
          "output_type": "stream",
          "name": "stdout",
          "text": [
            "[[[0 0 0]\n",
            "  [0 0 0]]\n",
            "\n",
            " [[0 0 0]\n",
            "  [0 0 0]]\n",
            "\n",
            " [[0 0 0]\n",
            "  [0 0 0]]\n",
            "\n",
            " [[0 0 0]\n",
            "  [0 0 0]]]\n"
          ]
        }
      ]
    },
    {
      "cell_type": "code",
      "source": [
        "arr = np.ones((3,4,3),dtype=np.int8)\n",
        "print(arr)"
      ],
      "metadata": {
        "colab": {
          "base_uri": "https://localhost:8080/"
        },
        "id": "7abF4anS7muf",
        "outputId": "19a17b7c-6c71-4902-e7d6-76d980bf4895"
      },
      "execution_count": 7,
      "outputs": [
        {
          "output_type": "stream",
          "name": "stdout",
          "text": [
            "[[[1 1 1]\n",
            "  [1 1 1]\n",
            "  [1 1 1]\n",
            "  [1 1 1]]\n",
            "\n",
            " [[1 1 1]\n",
            "  [1 1 1]\n",
            "  [1 1 1]\n",
            "  [1 1 1]]\n",
            "\n",
            " [[1 1 1]\n",
            "  [1 1 1]\n",
            "  [1 1 1]\n",
            "  [1 1 1]]]\n"
          ]
        }
      ]
    },
    {
      "cell_type": "code",
      "source": [
        "ar = np.ones_like(arr)\n",
        "print(ar)"
      ],
      "metadata": {
        "colab": {
          "base_uri": "https://localhost:8080/"
        },
        "id": "WMQB5dAQ8CmH",
        "outputId": "b10e0b0a-21f5-4a26-ff0e-5f60e1ace050"
      },
      "execution_count": 9,
      "outputs": [
        {
          "output_type": "stream",
          "name": "stdout",
          "text": [
            "[[[1 1 1]\n",
            "  [1 1 1]\n",
            "  [1 1 1]\n",
            "  [1 1 1]]\n",
            "\n",
            " [[1 1 1]\n",
            "  [1 1 1]\n",
            "  [1 1 1]\n",
            "  [1 1 1]]\n",
            "\n",
            " [[1 1 1]\n",
            "  [1 1 1]\n",
            "  [1 1 1]\n",
            "  [1 1 1]]\n",
            "\n",
            " [[1 1 1]\n",
            "  [1 1 1]\n",
            "  [1 1 1]\n",
            "  [1 1 1]]]\n"
          ]
        }
      ]
    },
    {
      "cell_type": "code",
      "source": [
        "arr = np.empty((3,4,3),dtype=np.int64)\n",
        "print(arr)"
      ],
      "metadata": {
        "colab": {
          "base_uri": "https://localhost:8080/"
        },
        "id": "qELiDP9T8RMe",
        "outputId": "ec63a8c0-e487-4b41-b9f3-d266fe4a7a8c"
      },
      "execution_count": 11,
      "outputs": [
        {
          "output_type": "stream",
          "name": "stdout",
          "text": [
            "[[[          685857247                   0     137322989355007]\n",
            "  [6874026229271586162 3037799373450208626 3038276273901630049]\n",
            "  [ 732243302562232171 7233184988100130383 8386668381597623397]\n",
            "  [3328452638448447337 7310027691118653984 2913388507452240479]]\n",
            "\n",
            " [[7020302829339043187 7091318335612940404 7236833163134198318]\n",
            "  [7308044090252144243 5921784253751714926 4715943301812088421]\n",
            "  [7595150837424088935 7378713966362127983 7957694959389405797]\n",
            "  [7957664966976020521 7309940527955839589 7310010034491978867]]\n",
            "\n",
            " [[    136341294639463     137322909814144     137322909814080]\n",
            "  [    137322909814016     137322909813952     137322909813888]\n",
            "  [    137322909813824     137322909813760     137322909813696]\n",
            "  [    137322909813632     137322909813568     137322909813504]]]\n"
          ]
        }
      ]
    },
    {
      "cell_type": "code",
      "source": [
        "arr2 = np.empty_like(arr)\n",
        "print(arr2)"
      ],
      "metadata": {
        "colab": {
          "base_uri": "https://localhost:8080/"
        },
        "id": "N4objGFL8lcm",
        "outputId": "8e6caf2d-3e49-43f0-8a86-b8c330d00bf8"
      },
      "execution_count": 12,
      "outputs": [
        {
          "output_type": "stream",
          "name": "stdout",
          "text": [
            "[[[4607182418800017408 4607182418800017408 4605380978949069210]\n",
            "  [4607182418800017408 4607182418800017408 4606546616499682750]\n",
            "  [4603826795548251156 4607182418800017408 4607147096449998816]\n",
            "  [4605840169499310907 4602007694522293662 4607182418800017408]]\n",
            "\n",
            " [[4607147096449998816 4604462597848585814 4599040617120731923]\n",
            "  [4607182418800017408 4607111774099980224 4603155670897897906]\n",
            "  [4597645384294997534 4607182418800017408 4607076451749961632]\n",
            "  [4599181906520806292 4595102175093658901 4607182418800017408]]\n",
            "\n",
            " [[4606193392999496828 4592011469467032090 4592576627067329564]\n",
            "  [4607182418800017408 4604851143698790328                   0]\n",
            "  [4594537017493361427 4607182418800017408 4602696480347656208]\n",
            "  [                  0 4594537017493361427 4607182418800017408]]]\n"
          ]
        }
      ]
    },
    {
      "cell_type": "code",
      "source": [
        "arr = np.full((4,3),np.inf)\n",
        "print(arr)"
      ],
      "metadata": {
        "colab": {
          "base_uri": "https://localhost:8080/"
        },
        "id": "mqhgb3k88xbG",
        "outputId": "161af9a6-4390-4c3d-e01d-c460f9fc3937"
      },
      "execution_count": 17,
      "outputs": [
        {
          "output_type": "stream",
          "name": "stdout",
          "text": [
            "[[inf inf inf]\n",
            " [inf inf inf]\n",
            " [inf inf inf]\n",
            " [inf inf inf]]\n"
          ]
        }
      ]
    },
    {
      "cell_type": "code",
      "source": [
        "arr2 =np.full_like(arr,np.inf,dtype=np.float64)\n",
        "print(arr2)"
      ],
      "metadata": {
        "colab": {
          "base_uri": "https://localhost:8080/"
        },
        "id": "0edsA6hs-j0m",
        "outputId": "0fe34794-2456-49de-c8c0-3ffc07198429"
      },
      "execution_count": 22,
      "outputs": [
        {
          "output_type": "stream",
          "name": "stdout",
          "text": [
            "[[inf inf inf]\n",
            " [inf inf inf]\n",
            " [inf inf inf]\n",
            " [inf inf inf]]\n"
          ]
        }
      ]
    },
    {
      "cell_type": "markdown",
      "source": [
        "###Random values\n"
      ],
      "metadata": {
        "id": "myV7VsT0_p7-"
      }
    },
    {
      "cell_type": "code",
      "source": [
        "#random   np.random.rand() -> je kono value nite pare 0 theke 1 er moddhe\n",
        "import numpy as np\n",
        "arr = np.random.rand(2,3)\n",
        "print(arr)\n",
        "print(arr.dtype)\n",
        "print(arr.shape)\n",
        "print(arr.ndim)\n",
        "print(arr.size)"
      ],
      "metadata": {
        "colab": {
          "base_uri": "https://localhost:8080/"
        },
        "id": "FfMef4Ic_fZA",
        "outputId": "e6b84252-4472-47d6-da59-598bc21882c2"
      },
      "execution_count": 28,
      "outputs": [
        {
          "output_type": "stream",
          "name": "stdout",
          "text": [
            "[[0.95765989 0.3201492  0.86719745]\n",
            " [0.00924654 0.62395663 0.61436056]]\n",
            "float64\n",
            "(2, 3)\n",
            "2\n",
            "6\n"
          ]
        }
      ]
    },
    {
      "cell_type": "code",
      "source": [
        "## np.random.randint() -> je kono value rang er moddhe value nibe purno sonkkha dibe .dibe na\n",
        "arr = np.random.randint(1,10,(4,3)) # 1 theke 10 rang er moddhe value niye output dekhabe\n",
        "print(arr)"
      ],
      "metadata": {
        "colab": {
          "base_uri": "https://localhost:8080/"
        },
        "id": "yUCepoH7A1MW",
        "outputId": "9c925d19-7c12-4529-ffcf-7313b7daa5e6"
      },
      "execution_count": 29,
      "outputs": [
        {
          "output_type": "stream",
          "name": "stdout",
          "text": [
            "[[7 6 2]\n",
            " [3 4 7]\n",
            " [7 7 2]\n",
            " [8 9 4]]\n"
          ]
        }
      ]
    },
    {
      "cell_type": "code",
      "source": [
        "## np.randoom.uniform()-> nidito rang er doshomik(.) man dibe .\n",
        "arr = np.random.uniform(50,100,(2,4))\n",
        "print(arr)\n",
        "\n",
        "print(\"next\")\n",
        "\n",
        "arr1 = np.random.uniform(50, 100, (3, 3, 4))\n",
        "print(arr1)\n"
      ],
      "metadata": {
        "colab": {
          "base_uri": "https://localhost:8080/"
        },
        "id": "RdxsI8TlCYT-",
        "outputId": "1e911aff-4b94-4f21-b700-348e692f0279"
      },
      "execution_count": 32,
      "outputs": [
        {
          "output_type": "stream",
          "name": "stdout",
          "text": [
            "[[88.36048834 59.07613653 85.87505028 94.11722225]\n",
            " [60.10089198 89.94273249 76.42565525 57.46846982]]\n",
            "next\n",
            "[[[99.27334948 61.95054416 65.14409911 65.89793639]\n",
            "  [71.47552225 53.41126452 52.07724956 56.89350429]\n",
            "  [89.55415665 98.66553658 81.65021289 93.4660908 ]]\n",
            "\n",
            " [[96.8939684  64.00068962 52.81857396 56.00747533]\n",
            "  [95.40620928 53.40098483 86.38166416 83.52597955]\n",
            "  [75.06869582 97.85298385 69.123287   96.25573782]]\n",
            "\n",
            " [[99.5916171  69.6431854  84.995272   92.04900861]\n",
            "  [90.89596644 84.40908812 71.60770986 61.83937493]\n",
            "  [53.20391489 86.83176122 79.0062712  51.55240243]]]\n"
          ]
        }
      ]
    },
    {
      "cell_type": "code",
      "source": [
        "## np.arang()->  nidishto dhap er man make korar jonno\n",
        "import numpy as np\n",
        "arr = np.arange(1,10,1) # 1 theke shuru hiche 10 porjonto jbe 1 step kore\n",
        "print(arr)"
      ],
      "metadata": {
        "colab": {
          "base_uri": "https://localhost:8080/"
        },
        "id": "9ZSTSzgyGXPH",
        "outputId": "4ecf0fa2-b058-4a13-de17-d6212bcdb892"
      },
      "execution_count": 33,
      "outputs": [
        {
          "output_type": "stream",
          "name": "stdout",
          "text": [
            "[1 2 3 4 5 6 7 8 9]\n"
          ]
        }
      ]
    },
    {
      "cell_type": "code",
      "source": [
        "mat =arr.reshape(3,3) # ei khane 3 ta row ar 3 col hobe\n",
        "print(mat)"
      ],
      "metadata": {
        "colab": {
          "base_uri": "https://localhost:8080/"
        },
        "id": "I9v1v9Q6GzLU",
        "outputId": "ad6db186-112b-40ab-ff19-80bcb753c5e4"
      },
      "execution_count": 34,
      "outputs": [
        {
          "output_type": "stream",
          "name": "stdout",
          "text": [
            "[[1 2 3]\n",
            " [4 5 6]\n",
            " [7 8 9]]\n"
          ]
        }
      ]
    },
    {
      "cell_type": "code",
      "source": [
        "#np.linspace()-> nidoshto sonkkhok soman duruto jonno man make\n",
        "arr = np.linspace(0,4,6) # 0 theke 4 porjonto jabe er moddhe 6 ta man lagbe\n",
        "print(arr)"
      ],
      "metadata": {
        "colab": {
          "base_uri": "https://localhost:8080/"
        },
        "id": "8gpFk4OzHZTl",
        "outputId": "4fe9b47c-f295-402f-ad8b-f1f0236e1912"
      },
      "execution_count": 37,
      "outputs": [
        {
          "output_type": "stream",
          "name": "stdout",
          "text": [
            "[0.  0.8 1.6 2.4 3.2 4. ]\n"
          ]
        }
      ]
    },
    {
      "cell_type": "code",
      "source": [
        "#np.logspace() ->\n",
        "\n",
        "arr = np.logspace(0, 4, 6, base=2)\n",
        "print(arr)"
      ],
      "metadata": {
        "colab": {
          "base_uri": "https://localhost:8080/"
        },
        "id": "rGQQiNo4IwWm",
        "outputId": "d522c02b-b566-4581-adce-1aae9ad566a9"
      },
      "execution_count": 38,
      "outputs": [
        {
          "output_type": "stream",
          "name": "stdout",
          "text": [
            "[ 1.          1.74110113  3.03143313  5.27803164  9.18958684 16.        ]\n"
          ]
        }
      ]
    },
    {
      "cell_type": "markdown",
      "source": [
        "###Diagonal and identity matrix"
      ],
      "metadata": {
        "id": "KMPK5RVCJuSn"
      }
    },
    {
      "cell_type": "code",
      "source": [
        "## Diagonal matrix -> np.diag()\n",
        "import numpy as np\n",
        "arr = np.diag([1,2,3])\n",
        "print(arr)\n",
        "print(arr.shape)\n",
        "print(arr.ndim)"
      ],
      "metadata": {
        "colab": {
          "base_uri": "https://localhost:8080/"
        },
        "id": "PkUg2BSXJ64E",
        "outputId": "94f3b8a0-e45e-451c-f438-889106bb80e9"
      },
      "execution_count": 41,
      "outputs": [
        {
          "output_type": "stream",
          "name": "stdout",
          "text": [
            "[[1 0 0]\n",
            " [0 2 0]\n",
            " [0 0 3]]\n",
            "(3, 3)\n",
            "2\n"
          ]
        }
      ]
    },
    {
      "cell_type": "code",
      "source": [
        "## identity matrix\n",
        "\n",
        "mat = np.eye(4, dtype=np.int8)\n",
        "print(mat)\n",
        "\n",
        "\n",
        "mat2 = np.eye(3,4) # 4 ta col value nibe 3 ta row nibe\n",
        "print(mat2)"
      ],
      "metadata": {
        "colab": {
          "base_uri": "https://localhost:8080/"
        },
        "id": "MAkN_H1iKr18",
        "outputId": "a98f88ef-7edd-4170-da29-745e3f6c9847"
      },
      "execution_count": 44,
      "outputs": [
        {
          "output_type": "stream",
          "name": "stdout",
          "text": [
            "[[1 0 0 0]\n",
            " [0 1 0 0]\n",
            " [0 0 1 0]\n",
            " [0 0 0 1]]\n",
            "[[1. 0. 0. 0.]\n",
            " [0. 1. 0. 0.]\n",
            " [0. 0. 1. 0.]]\n"
          ]
        }
      ]
    },
    {
      "cell_type": "code",
      "source": [
        "\n",
        "mat2 = np.eye(3,4,1) # 4 ta col value nibe 3 ta row nibe 1 mane ek gor upore boshbe jodi -1 ditam tahole ek gor niche boshto\n",
        "print(mat2)"
      ],
      "metadata": {
        "colab": {
          "base_uri": "https://localhost:8080/"
        },
        "id": "fp_nfx-dMRm8",
        "outputId": "dcb80912-0d4c-40bf-ef22-1b6d4631ee2d"
      },
      "execution_count": 45,
      "outputs": [
        {
          "output_type": "stream",
          "name": "stdout",
          "text": [
            "[[0. 1. 0. 0.]\n",
            " [0. 0. 1. 0.]\n",
            " [0. 0. 0. 1.]]\n"
          ]
        }
      ]
    },
    {
      "cell_type": "markdown",
      "source": [
        "###Indexing and Slicing"
      ],
      "metadata": {
        "id": "J2FUJVIdYZ5a"
      }
    },
    {
      "cell_type": "code",
      "source": [
        "import numpy as np\n",
        "arr1 = np.array([1,2,3,4,5])\n",
        "arr2 = np.array([[1,2,3],\n",
        "                 [4,5,6]])\n",
        "\n",
        "arr2[0][1]=100 # ei khane 0 bujhanu hoiche je fast arraylist ar 1 ta holo index number\n",
        "arr2[1][2]=30  # 1 ta holo 2nd arraylist 2 ta holo index\n",
        "print(arr2)"
      ],
      "metadata": {
        "colab": {
          "base_uri": "https://localhost:8080/"
        },
        "id": "wez0zorpM1xz",
        "outputId": "a26c7b75-e757-43e0-a9f7-9545e121de74"
      },
      "execution_count": 51,
      "outputs": [
        {
          "output_type": "stream",
          "name": "stdout",
          "text": [
            "[[  1 100   3]\n",
            " [  4   5  30]]\n"
          ]
        }
      ]
    },
    {
      "cell_type": "code",
      "source": [
        "# 1D array slicing\n",
        "arr = np.array([1,2,3,4,5])\n",
        "arr1 = arr[1:4].copy() # arr list er value copy kore ekta rakha hoiche\n",
        "arr1[2]=200\n",
        "print(arr)\n",
        "print(arr1)"
      ],
      "metadata": {
        "colab": {
          "base_uri": "https://localhost:8080/"
        },
        "id": "9bC2brjcakLa",
        "outputId": "78fc6881-2285-4917-b953-f318a41b4333"
      },
      "execution_count": 52,
      "outputs": [
        {
          "output_type": "stream",
          "name": "stdout",
          "text": [
            "[1 2 3 4 5]\n",
            "[  2   3 200]\n"
          ]
        }
      ]
    },
    {
      "cell_type": "code",
      "source": [
        "## 2D slicing\n",
        "arr2 = np.array([[1, 2, 3],\n",
        "                 [4, 5, 6]])\n",
        "\n",
        "row_0 = arr2[0:1, ] # row index er 0 theke 1 ag porjonto neo\n",
        "row_1 = arr2[1:, ]  # 1 index theke neo\n",
        "\n",
        "print(row_0)\n",
        "print(row_1)"
      ],
      "metadata": {
        "colab": {
          "base_uri": "https://localhost:8080/"
        },
        "id": "IIRYPx2Zb3Ux",
        "outputId": "704b2fd8-e7e5-41d8-b817-302551241955"
      },
      "execution_count": 55,
      "outputs": [
        {
          "output_type": "stream",
          "name": "stdout",
          "text": [
            "[[1 2 3]]\n",
            "[[4 5 6]]\n"
          ]
        }
      ]
    }
  ]
}