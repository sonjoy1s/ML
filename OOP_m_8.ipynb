{
  "nbformat": 4,
  "nbformat_minor": 0,
  "metadata": {
    "colab": {
      "provenance": [],
      "authorship_tag": "ABX9TyOzZXafnewg7seyWVUb7zln",
      "include_colab_link": true
    },
    "kernelspec": {
      "name": "python3",
      "display_name": "Python 3"
    },
    "language_info": {
      "name": "python"
    }
  },
  "cells": [
    {
      "cell_type": "markdown",
      "metadata": {
        "id": "view-in-github",
        "colab_type": "text"
      },
      "source": [
        "<a href=\"https://colab.research.google.com/github/sonjoy1s/ML/blob/main/OOP_m_8.ipynb\" target=\"_parent\"><img src=\"https://colab.research.google.com/assets/colab-badge.svg\" alt=\"Open In Colab\"/></a>"
      ]
    },
    {
      "cell_type": "code",
      "execution_count": 76,
      "metadata": {
        "id": "ngr6OnAzA-jB"
      },
      "outputs": [],
      "source": [
        "# oop -> class\n",
        "class Phone :\n",
        "  category = \"Electronics\"\n",
        "  # constructor\n",
        "  def __init__(self,model,battery,camera, battery_percentage =100) :\n",
        "    self.model = model\n",
        "    self.battery = battery\n",
        "    self.camera = camera\n",
        "    self.battery_percentage = battery_percentage\n",
        "\n",
        "    #METHOD\n",
        "  def charge(self, hour) :\n",
        "    print(f\"charge completed by {hour}\")\n",
        "\n",
        "  def capture(self,photo):\n",
        "    if(self.battery_percentage)<=0 :\n",
        "      print(\"Battery Low\")\n",
        "    else :\n",
        "     self.battery_percentage -= photo\n",
        "     print(f\"Photo Captured in {self.model}\")\n",
        "\n",
        "class Cooling_Mechanism:\n",
        "    def __init__(self,cooling_method):\n",
        "     self.cooling_method= cooling_method\n",
        "\n",
        "\n",
        "  #methods\n",
        "    def cooling_on(self):\n",
        "     print(f\"the system is being cool by {self.cooling_method}\")\n"
      ]
    },
    {
      "cell_type": "code",
      "source": [
        "# created object\n",
        "apple = Phone(\"Iphone-16\",3000,40)\n",
        "#apple.category = \"Super Electronics\" # eita hoilo class attributes\n",
        "blueberry = Phone(\"b-17\", 4000, 30)\n",
        "motorola = Phone(\"m-18\", 5000, 35)\n",
        "apple.capture(10)\n",
        "print(motorola.battery_percentage)\n",
        "print(apple.battery_percentage)\n",
        "#print(type(apple))\n",
        "#print(apple.category)\n",
        "#print(blueberry.category)\n",
        "#rint(motorola.category)\n"
      ],
      "metadata": {
        "colab": {
          "base_uri": "https://localhost:8080/"
        },
        "id": "a31XPoMvpiOT",
        "outputId": "8a96bc5a-a6c2-4fe1-8a91-477588f5ac70"
      },
      "execution_count": 77,
      "outputs": [
        {
          "output_type": "stream",
          "name": "stdout",
          "text": [
            "Photo Captured in Iphone-16\n",
            "100\n",
            "90\n"
          ]
        }
      ]
    },
    {
      "cell_type": "code",
      "source": [
        "# OOP pillar --> Inheritance :\n",
        "class SmartPhone(Phone) : # ei class ta uporer je class created korchi ta ei class er modddhe niye niche\n",
        "  def __init__(self , model, battery, camera, processor):\n",
        "    super().__init__(model,battery, camera) # eitar maddhome constructor eita ke call korlam\n",
        "    self.processor = processor\n",
        "\n",
        "  ## modified method\n",
        "  def charge(self,hour):\n",
        "    print(\"fast charging in process\")\n",
        "    super().charge(hour)\n"
      ],
      "metadata": {
        "id": "AiwYPoHk18Nk"
      },
      "execution_count": 78,
      "outputs": []
    },
    {
      "cell_type": "code",
      "source": [
        "pro = SmartPhone(\"X\",5000,100,\"SnapDragon\")\n",
        "print(pro.model)\n",
        "pro.charge(1)"
      ],
      "metadata": {
        "colab": {
          "base_uri": "https://localhost:8080/"
        },
        "id": "wuTWEPYz4bTi",
        "outputId": "0f6143a2-e0bd-4537-98e0-ab98a2a52201"
      },
      "execution_count": 79,
      "outputs": [
        {
          "output_type": "stream",
          "name": "stdout",
          "text": [
            "X\n",
            "fast charging in process\n",
            "charge completed by 1\n"
          ]
        }
      ]
    },
    {
      "cell_type": "code",
      "source": [
        "### Multiple Inheritance\n",
        "class SmartPhone_coolingMode(SmartPhone,Cooling_Mechanism):\n",
        "  def __init__(self, model, battery, camera, processor,cooling_method):\n",
        "    SmartPhone.__init__(self,model, battery, camera, processor)\n",
        "    self.cooling_method =cooling_method\n",
        "    Cooling_Mechanism.__init__(self,cooling_method)"
      ],
      "metadata": {
        "id": "EnugaXvZMsfS"
      },
      "execution_count": 83,
      "outputs": []
    },
    {
      "cell_type": "code",
      "source": [
        "pro_cooling = SmartPhone_coolingMode(\"Y\",5000,100,\"SD\",\"Nitrogen\")\n",
        "\n",
        "print(pro_cooling.processor) # SmartPhone class theke\n",
        "print(pro_cooling.battery) # Phone class theke\n",
        "print(pro_cooling.cooling_method) # Cooling_Mechanism class theke\n",
        "print(pro_cooling.cooling_on()) # Cooling_Mechanism class er method\n",
        "print(pro_cooling.charge(1)) # SmartPhone er modified charge jeta Phone class theke inherited"
      ],
      "metadata": {
        "colab": {
          "base_uri": "https://localhost:8080/"
        },
        "id": "36y7GWbDOBNU",
        "outputId": "4622ecab-658b-4cf8-92ad-d1b8f2b0dcd0"
      },
      "execution_count": 85,
      "outputs": [
        {
          "output_type": "stream",
          "name": "stdout",
          "text": [
            "SD\n",
            "5000\n",
            "Nitrogen\n",
            "the system is being cool by Nitrogen\n",
            "None\n",
            "fast charging in process\n",
            "charge completed by 1\n",
            "None\n"
          ]
        }
      ]
    },
    {
      "cell_type": "code",
      "source": [],
      "metadata": {
        "id": "SQCzlDBSSny0"
      },
      "execution_count": null,
      "outputs": []
    },
    {
      "cell_type": "code",
      "source": [
        "## Polymorphsim\n",
        "class Camera :\n",
        "  def __init__(self, name):\n",
        "    self.name = name\n",
        "  def capture(self):\n",
        "    print(\"a photo is captured\")"
      ],
      "metadata": {
        "id": "vF08DYgfSoTa"
      },
      "execution_count": 115,
      "outputs": []
    },
    {
      "cell_type": "code",
      "source": [
        "class Smart_Phone(Camera):\n",
        "  def __init__(self,name,resolution):\n",
        "    super().__init__(name)\n",
        "    self.resolution = resolution\n",
        "\n",
        "  #method overriding\n",
        "  def capture(self):\n",
        "    print(\"Photo is captured by a Phone\")\n",
        "\n",
        "\n",
        "class DSLR(Camera):\n",
        "  def __init__(self,name,resolution):\n",
        "    super().__init__(name)\n",
        "    self.resolution = resolution\n",
        "\n",
        "  def capture(self):\n",
        "    print(\"Photo is captured  by DSLR\")\n",
        "\n",
        "\n",
        "\n",
        "class Drone(Camera):\n",
        "  def __init__(self,name,resolution):\n",
        "    super().__init__(name)\n",
        "    self.resolution = resolution\n",
        "\n",
        "  def capture(self):\n",
        "    print(\"Photo is captured by Drone\")\n",
        "\n",
        "\n",
        "\n",
        "phone = Smart_Phone(\"Phone\",30)\n",
        "dslr = DSLR (\"DSLR\",200)\n",
        "drone = Drone(\"Drone\",150)\n",
        "\n",
        "\n",
        "phone.capture()\n",
        "dslr.capture()\n",
        "drone.capture()"
      ],
      "metadata": {
        "colab": {
          "base_uri": "https://localhost:8080/"
        },
        "id": "pLr3ULEUTNVi",
        "outputId": "4a5a209e-88f5-43a1-d01c-203d6e30be83"
      },
      "execution_count": 116,
      "outputs": [
        {
          "output_type": "stream",
          "name": "stdout",
          "text": [
            "Photo is captured by a Phone\n",
            "Photo is captured  by DSLR\n",
            "Photo is captured by Drone\n"
          ]
        }
      ]
    },
    {
      "cell_type": "code",
      "source": [],
      "metadata": {
        "id": "tR-ZEUkmcqQ4"
      },
      "execution_count": null,
      "outputs": []
    },
    {
      "cell_type": "markdown",
      "source": [
        "## Encapsulation"
      ],
      "metadata": {
        "id": "qI1gyElUcq_6"
      }
    },
    {
      "cell_type": "code",
      "source": [
        "class Mobile:\n",
        "  def __init__(self,name,model,imei):\n",
        "    self.__name = name\n",
        "    self.__model = model\n",
        "    self.__imei = imei # private\n",
        "\n",
        "  def charge(self):\n",
        "    print(\"phone is charging\")\n",
        "\n",
        "  # method imei ta paite pari\n",
        "  def imei_getter(self):\n",
        "    return self.__imei\n",
        "  def model_getter(self):\n",
        "    return self.__model\n",
        "\n",
        "\n",
        "\n",
        "  def name_getter(self):\n",
        "    return self.__name\n",
        "\n",
        "\n",
        "  def name_setter(self,name): # name change er jonno\n",
        "    self.__name = name\n",
        "\n",
        "\n",
        "\n",
        "\n",
        "\n",
        "\n",
        "\n",
        "#outside world ( user )\n",
        "\n",
        "# registration\n",
        "iphone = Mobile(\"Phone\",\"17\",\"1xkaf1\")\n",
        "\n",
        "print(iphone.name_getter()) # iphone name jodi excess er jonno\n",
        "\n",
        "iphone.name_setter(\"Phitron\") # name change\n",
        "\n",
        "\n",
        "print(iphone.name_getter())\n"
      ],
      "metadata": {
        "id": "xau5nTqzc2Yx"
      },
      "execution_count": null,
      "outputs": []
    },
    {
      "cell_type": "code",
      "source": [],
      "metadata": {
        "id": "qkpZ_g3Hgs9S"
      },
      "execution_count": null,
      "outputs": []
    },
    {
      "cell_type": "markdown",
      "source": [
        "### Abatraction"
      ],
      "metadata": {
        "id": "hVoBKsOdgtsT"
      }
    },
    {
      "cell_type": "code",
      "source": [
        "from abc import  ABC , abstractmethod\n",
        "\n",
        "class Telephone(ABC):\n",
        "\n",
        "  @abstractmethod\n",
        "  def make_call(self):\n",
        "    pass\n",
        "\n",
        "\n",
        "\n",
        "class Sphone(Telephone):\n",
        "  def make_call(self):\n",
        "    print(\"Making a call using SPhone\")\n",
        "\n",
        "\n",
        "\n",
        "class Iphone(Telephone):\n",
        "   def make_call(self):\n",
        "    print(\"Making a call using IPhone\")\n"
      ],
      "metadata": {
        "id": "nq-HsUdKgyr5"
      },
      "execution_count": 117,
      "outputs": []
    },
    {
      "cell_type": "code",
      "source": [
        "ip = Iphone()\n",
        "\n",
        "ip.make_call()"
      ],
      "metadata": {
        "colab": {
          "base_uri": "https://localhost:8080/"
        },
        "id": "q_Sbicd1i1FZ",
        "outputId": "e20ca6c1-c9fc-42dd-f6ea-38a1c69d52c8"
      },
      "execution_count": 118,
      "outputs": [
        {
          "output_type": "stream",
          "name": "stdout",
          "text": [
            "Making a call using IPhone\n"
          ]
        }
      ]
    }
  ]
}