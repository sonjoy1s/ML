{
  "nbformat": 4,
  "nbformat_minor": 0,
  "metadata": {
    "colab": {
      "provenance": []
    },
    "kernelspec": {
      "name": "python3",
      "display_name": "Python 3"
    },
    "language_info": {
      "name": "python"
    }
  },
  "cells": [
    {
      "cell_type": "code",
      "execution_count": null,
      "metadata": {
        "colab": {
          "base_uri": "https://localhost:8080/"
        },
        "id": "J-v5tUfXpkXj",
        "outputId": "d8ab58b0-6ce4-46a0-ed21-3159ab2a9d6a"
      },
      "outputs": [
        {
          "output_type": "stream",
          "name": "stdout",
          "text": [
            "[20, 30, 40]\n",
            "[40, 50, 60]\n",
            "[10, 30, 50]\n",
            "[60, 50, 40, 30, 20, 10]\n",
            "[10, 20, 30]\n"
          ]
        }
      ],
      "source": [
        "# --- DEMO: Slicing sequence ---\n",
        "nums = [10, 20, 30, 40, 50, 60]\n",
        "print(nums[1:4]) # middle slice\n",
        "print(nums[-3:]) # last 3 stap saw\n",
        "print(nums[::2]) # 2 step way\n",
        "print(nums[::-1]) # reverse way\n",
        "print(nums[:-3])"
      ]
    },
    {
      "cell_type": "code",
      "source": [
        "# Demo : Truthiness ---\n",
        "samples = [0, 1, \"\", \"text\", [], [1], {}, {\"k\": 1}, None]\n",
        "for item in samples:\n",
        "  if item:\n",
        "    print(repr(item), \"→ Truthy\")\n",
        "  else:\n",
        "    print(repr(item), \"→ Falsy\")\n",
        "name = \"jhon\"\n",
        "score = 95\n",
        "print(f\"{name} score {score}% (next : {score + 1}%)\")"
      ],
      "metadata": {
        "colab": {
          "base_uri": "https://localhost:8080/"
        },
        "id": "vxfmi3Bzr22t",
        "outputId": "c407b113-64dc-4d81-a8d1-afab57f01c6d"
      },
      "execution_count": null,
      "outputs": [
        {
          "output_type": "stream",
          "name": "stdout",
          "text": [
            "0 → Falsy\n",
            "1 → Truthy\n",
            "'' → Falsy\n",
            "'text' → Truthy\n",
            "[] → Falsy\n",
            "[1] → Truthy\n",
            "{} → Falsy\n",
            "{'k': 1} → Truthy\n",
            "None → Falsy\n",
            "jhon score 95% (next : 96%)\n"
          ]
        }
      ]
    },
    {
      "cell_type": "code",
      "source": [
        "data ={\n",
        "  \"user\": {\n",
        "      \"name\": \"Alice\",\n",
        "      \"id\" : 123,\n",
        "      \"contract\":{\n",
        "          \"email\": [\"alice@gmail.com\" , \"abc@gmail.com\"],\n",
        "          \"phone\":\"5555-123\"\n",
        "      }\n",
        "  },\n",
        "  \"item\":[\n",
        "      {\"name\": \"Laptob\", \"price\": 1200},\n",
        "      {\"name\": \"Keyboard\", \"price\": 75}\n",
        "  ]\n",
        "}\n",
        "print(\"User Name :\", data[\"user\"][\"name\"])\n",
        "print(\"Frist Item Price :\", data[\"item\"][1][\"price\"])\n",
        "print(\"User Email :\", data[\"user\"][\"contract\"][\"email\"][0])"
      ],
      "metadata": {
        "id": "8hQPtCNLuKQ0",
        "colab": {
          "base_uri": "https://localhost:8080/"
        },
        "outputId": "7c6bc588-7724-4a5d-e984-de137142bfb7"
      },
      "execution_count": 3,
      "outputs": [
        {
          "output_type": "stream",
          "name": "stdout",
          "text": [
            "User Name : Alice\n",
            "Frist Item Price : 75\n",
            "User Email : alice@gmail.com\n"
          ]
        }
      ]
    },
    {
      "cell_type": "code",
      "source": [
        "# oder data\n",
        "order_data = {\n",
        "    \"Customer\" : {\n",
        "        \"frist_name\": \"Bob\",\n",
        "        \"last_name\": \"Jhonson\"\n",
        "    },\n",
        "    \"item\":[\n",
        "        {\"item_name\": \"Book\",\n",
        "         \"price\":25.4},\n",
        "        {\"item_name\": \"Notebook\",\n",
        "         \"price\":4.50},\n",
        "        {\"item_name\": \"Pen\", \"price\":1.20}\n",
        "    ]\n",
        "}\n",
        "full_name = f\"{order_data['Customer']['frist_name']} {order_data['Customer']['last_name']}\"\n",
        "print(\"Customer Full Name :\", full_name)\n",
        "total_price = sum(item[\"price\"] for item in order_data[\"item\"])\n",
        "print(\"Total Price :\", total_price)\n",
        "item_name = [item[\"item_name\"] for item in order_data[\"item\"]]\n",
        "print(\"Item Name :\", item_name)"
      ],
      "metadata": {
        "colab": {
          "base_uri": "https://localhost:8080/"
        },
        "id": "PlI-t6Ff6ZfX",
        "outputId": "1617115d-d654-4557-dc74-2aed529652d5"
      },
      "execution_count": 7,
      "outputs": [
        {
          "output_type": "stream",
          "name": "stdout",
          "text": [
            "Customer Full Name : Bob Jhonson\n",
            "Total Price : 31.099999999999998\n",
            "Item Name : ['Book', 'Notebook', 'Pen']\n"
          ]
        }
      ]
    },
    {
      "cell_type": "code",
      "source": [
        "for i in range(10,51):\n",
        "  if i == 0:\n",
        "    label = \"Zero\"\n",
        "  elif i % 2 == 0:\n",
        "      label = \"Even\"\n",
        "  else:\n",
        "    label = \"Odd\"\n",
        "  print(i, \"->\", label)"
      ],
      "metadata": {
        "colab": {
          "base_uri": "https://localhost:8080/"
        },
        "collapsed": true,
        "id": "veRRQ7tyBecq",
        "outputId": "2336a9ce-3db4-4502-97c0-a470ce86da6e"
      },
      "execution_count": 21,
      "outputs": [
        {
          "output_type": "stream",
          "name": "stdout",
          "text": [
            "10 -> Even\n",
            "11 -> Odd\n",
            "12 -> Even\n",
            "13 -> Odd\n",
            "14 -> Even\n",
            "15 -> Odd\n",
            "16 -> Even\n",
            "17 -> Odd\n",
            "18 -> Even\n",
            "19 -> Odd\n",
            "20 -> Even\n",
            "21 -> Odd\n",
            "22 -> Even\n",
            "23 -> Odd\n",
            "24 -> Even\n",
            "25 -> Odd\n",
            "26 -> Even\n",
            "27 -> Odd\n",
            "28 -> Even\n",
            "29 -> Odd\n",
            "30 -> Even\n",
            "31 -> Odd\n",
            "32 -> Even\n",
            "33 -> Odd\n",
            "34 -> Even\n",
            "35 -> Odd\n",
            "36 -> Even\n",
            "37 -> Odd\n",
            "38 -> Even\n",
            "39 -> Odd\n",
            "40 -> Even\n",
            "41 -> Odd\n",
            "42 -> Even\n",
            "43 -> Odd\n",
            "44 -> Even\n",
            "45 -> Odd\n",
            "46 -> Even\n",
            "47 -> Odd\n",
            "48 -> Even\n",
            "49 -> Odd\n",
            "50 -> Even\n"
          ]
        }
      ]
    },
    {
      "cell_type": "code",
      "source": [
        "for i in range(5):\n",
        "  for j in range(5):\n",
        "    print(i)\n",
        "    print(j)"
      ],
      "metadata": {
        "colab": {
          "base_uri": "https://localhost:8080/"
        },
        "collapsed": true,
        "id": "1ICkhIZFFjqg",
        "outputId": "f18d1f6d-74be-4a07-f856-4906e81a3560"
      },
      "execution_count": 25,
      "outputs": [
        {
          "output_type": "stream",
          "name": "stdout",
          "text": [
            "0\n",
            "0\n",
            "0\n",
            "1\n",
            "0\n",
            "2\n",
            "0\n",
            "3\n",
            "0\n",
            "4\n",
            "1\n",
            "0\n",
            "1\n",
            "1\n",
            "1\n",
            "2\n",
            "1\n",
            "3\n",
            "1\n",
            "4\n",
            "2\n",
            "0\n",
            "2\n",
            "1\n",
            "2\n",
            "2\n",
            "2\n",
            "3\n",
            "2\n",
            "4\n",
            "3\n",
            "0\n",
            "3\n",
            "1\n",
            "3\n",
            "2\n",
            "3\n",
            "3\n",
            "3\n",
            "4\n",
            "4\n",
            "0\n",
            "4\n",
            "1\n",
            "4\n",
            "2\n",
            "4\n",
            "3\n",
            "4\n",
            "4\n"
          ]
        }
      ]
    },
    {
      "cell_type": "code",
      "source": [
        "tmp =[35, 40, 28, 32, 30]\n",
        "farhen =[item*(9/5)+32 for item in tmp] # all farhan\n",
        "print(f\"Frist{farhen}\")\n",
        "farhen1 =[item*(9/5)+32 for item in tmp if item % 2==0] # even num farhan\n",
        "print(farhen1)\n",
        "for item in tmp:\n",
        "  print((9/5)+32)\n",
        "  squares = [x**2 for x in range(6)] # way to 6 rang step 2\n",
        "  evens = [x for x in range(20) if x % 2 ==0]\n",
        "  squares_map = {x:x**2 for x in range(5)}\n",
        "  unique_initials = {item[0].lower() for item in [\"Alice \", \"Bob\", \"Alex\", \"Beta\"]} #convert lowercase 0 index if [1] it's 1 index\n",
        "  print(f\"squares : {squares}\")\n",
        "  print(f\"evens : {evens}\")\n",
        "  print(f\"squares_map : {squares_map}\")\n",
        "  print(f\"unique_initials : {unique_initials}\")"
      ],
      "metadata": {
        "colab": {
          "base_uri": "https://localhost:8080/"
        },
        "collapsed": true,
        "id": "PLsrmTPUGWu_",
        "outputId": "ed06df60-3422-40d4-e2aa-5e56402e5bb9"
      },
      "execution_count": 26,
      "outputs": [
        {
          "output_type": "stream",
          "name": "stdout",
          "text": [
            "Frist[95.0, 104.0, 82.4, 89.6, 86.0]\n",
            "[104.0, 82.4, 89.6, 86.0]\n",
            "33.8\n",
            "squares : [0, 1, 4, 9, 16, 25]\n",
            "evens : [0, 2, 4, 6, 8, 10, 12, 14, 16, 18]\n",
            "squares_map : {0: 0, 1: 1, 2: 4, 3: 9, 4: 16}\n",
            "unique_initials : {'b', 'a'}\n",
            "33.8\n",
            "squares : [0, 1, 4, 9, 16, 25]\n",
            "evens : [0, 2, 4, 6, 8, 10, 12, 14, 16, 18]\n",
            "squares_map : {0: 0, 1: 1, 2: 4, 3: 9, 4: 16}\n",
            "unique_initials : {'b', 'a'}\n",
            "33.8\n",
            "squares : [0, 1, 4, 9, 16, 25]\n",
            "evens : [0, 2, 4, 6, 8, 10, 12, 14, 16, 18]\n",
            "squares_map : {0: 0, 1: 1, 2: 4, 3: 9, 4: 16}\n",
            "unique_initials : {'b', 'a'}\n",
            "33.8\n",
            "squares : [0, 1, 4, 9, 16, 25]\n",
            "evens : [0, 2, 4, 6, 8, 10, 12, 14, 16, 18]\n",
            "squares_map : {0: 0, 1: 1, 2: 4, 3: 9, 4: 16}\n",
            "unique_initials : {'b', 'a'}\n",
            "33.8\n",
            "squares : [0, 1, 4, 9, 16, 25]\n",
            "evens : [0, 2, 4, 6, 8, 10, 12, 14, 16, 18]\n",
            "squares_map : {0: 0, 1: 1, 2: 4, 3: 9, 4: 16}\n",
            "unique_initials : {'b', 'a'}\n"
          ]
        }
      ]
    },
    {
      "cell_type": "code",
      "source": [
        "nasted_squares = [[x**2 for x in range (i , i+5) if x%2==0] for i in range (1, 10, 3)]\n",
        "print(\"Nasted_square :\", nasted_squares)\n",
        "\n",
        "number_description = {\n",
        "    num: (\"even or odd\" if num % 2 == 0 and num % 3 == 0\n",
        "          else \"even\" if num % 2 == 0\n",
        "          else \"odd \" if num % 3 == 0\n",
        "          else \"Odd\")\n",
        "    for num in range (1, 100)\n",
        "\n",
        "}\n",
        "print(number_description)"
      ],
      "metadata": {
        "colab": {
          "base_uri": "https://localhost:8080/"
        },
        "id": "ZfTO444PUCII",
        "outputId": "75f6c596-fe48-4a40-8166-6aaf806ead03"
      },
      "execution_count": 30,
      "outputs": [
        {
          "output_type": "stream",
          "name": "stdout",
          "text": [
            "Nasted_square : [[4, 16], [16, 36, 64], [64, 100]]\n",
            "{1: 'Odd', 2: 'even', 3: 'odd ', 4: 'even', 5: 'Odd', 6: 'even or odd', 7: 'Odd', 8: 'even', 9: 'odd ', 10: 'even', 11: 'Odd', 12: 'even or odd', 13: 'Odd', 14: 'even', 15: 'odd ', 16: 'even', 17: 'Odd', 18: 'even or odd', 19: 'Odd', 20: 'even', 21: 'odd ', 22: 'even', 23: 'Odd', 24: 'even or odd', 25: 'Odd', 26: 'even', 27: 'odd ', 28: 'even', 29: 'Odd', 30: 'even or odd', 31: 'Odd', 32: 'even', 33: 'odd ', 34: 'even', 35: 'Odd', 36: 'even or odd', 37: 'Odd', 38: 'even', 39: 'odd ', 40: 'even', 41: 'Odd', 42: 'even or odd', 43: 'Odd', 44: 'even', 45: 'odd ', 46: 'even', 47: 'Odd', 48: 'even or odd', 49: 'Odd', 50: 'even', 51: 'odd ', 52: 'even', 53: 'Odd', 54: 'even or odd', 55: 'Odd', 56: 'even', 57: 'odd ', 58: 'even', 59: 'Odd', 60: 'even or odd', 61: 'Odd', 62: 'even', 63: 'odd ', 64: 'even', 65: 'Odd', 66: 'even or odd', 67: 'Odd', 68: 'even', 69: 'odd ', 70: 'even', 71: 'Odd', 72: 'even or odd', 73: 'Odd', 74: 'even', 75: 'odd ', 76: 'even', 77: 'Odd', 78: 'even or odd', 79: 'Odd', 80: 'even', 81: 'odd ', 82: 'even', 83: 'Odd', 84: 'even or odd', 85: 'Odd', 86: 'even', 87: 'odd ', 88: 'even', 89: 'Odd', 90: 'even or odd', 91: 'Odd', 92: 'even', 93: 'odd ', 94: 'even', 95: 'Odd', 96: 'even or odd', 97: 'Odd', 98: 'even', 99: 'odd '}\n"
          ]
        }
      ]
    },
    {
      "cell_type": "code",
      "source": [
        "users_data = [\n",
        "    {\"user_id\": 1, \"name\": \"Alice\", \"orders\": [{\"order_id\": \"A1\", \"amount\": 150}, {\"order_id\": \"A2\", \"amount\": 200}]},\n",
        "    {\"user_id\": 2, \"name\": \"Bob\", \"orders\": [{\"order_id\": \"B1\", \"amount\": 50}]},\n",
        "    {\"user_id\": 3, \"name\": \"Charlie\", \"orders\": []}\n",
        "]\n",
        "print(\"calculated total amount spent by each user : \")\n",
        "for user in users_data:\n",
        "    total_spent = 0\n",
        "    for order in user.get(\"orders\", []): # Used .get() for safe access\n",
        "        total_spent += order.get(\"amount\", 0) # Used .get() for safe access\n",
        "    print(f\"{user.get('name', 'N/A')}: ${total_spent}\")\n",
        "\n",
        "    # Get a list of all order amount across all user using a loop\n",
        "    all_order_amounts = [order.get(\"amount\",0) for user in users_data for order in user.get(\"orders\",[])]\n",
        "    print(\"\\nAll order amounts :\", all_order_amounts)\n",
        "\n",
        "    # created a dictionary mapping using user_id to the number of order a nasted comprehension\n",
        "    order_count_per_user = {user[\"user_id\"]: len(user.get(\"orders\",[])) for user in users_data}\n",
        "    print(\"\\nOrder count per user :\", order_count_per_user)\n"
      ],
      "metadata": {
        "colab": {
          "base_uri": "https://localhost:8080/"
        },
        "collapsed": true,
        "id": "tEzdTKcPY1iM",
        "outputId": "e330ee5c-1c59-4540-d40c-ee6e7119d7be"
      },
      "execution_count": 43,
      "outputs": [
        {
          "output_type": "stream",
          "name": "stdout",
          "text": [
            "calculated total amount spent by each user : \n",
            "Alice: $350\n",
            "\n",
            "All order amounts : [150, 200, 50]\n",
            "\n",
            "Order count per user : {1: 2, 2: 1, 3: 0}\n",
            "Bob: $50\n",
            "\n",
            "All order amounts : [150, 200, 50]\n",
            "\n",
            "Order count per user : {1: 2, 2: 1, 3: 0}\n",
            "Charlie: $0\n",
            "\n",
            "All order amounts : [150, 200, 50]\n",
            "\n",
            "Order count per user : {1: 2, 2: 1, 3: 0}\n"
          ]
        }
      ]
    },
    {
      "cell_type": "code",
      "source": [
        "users_data =[\n",
        "    {\"user_id\": 1, \"name\": \"Alice\", \"orders\": [{\"order_id\": \"A1\", \"amount\":150}, {\"order_id\": \"A2\", \"amount\":200}]},\n",
        "    {\"user_id\": 2, \"name\": \"Bob\", \"orders\": [{\"order_id\": \"B1\", \"amount\": 50}]},\n",
        "    {\"user_id\": 3, \"name\": \"Charly\", \"orders\": []}\n",
        "]\n",
        "print(\"Calculate and print the total amount spent by each user\")\n",
        "for user in users_data:\n",
        "  total_spent = 0\n",
        "for order in user.get(\"orders\",[]):\n",
        "   total_spent += order.get(\"amount\",0)  # used safe access .get\n",
        "   print(f\"{user.get('name', 'N/A')}: ${total_spent}\")\n",
        "\n",
        "   # get a list of all oder amount across all user using loop\n",
        "   all_order_amounts = [order.get(\"amount\",0) for user in users_data for order in user.get(\"orders\",[])]\n",
        "   print(\"\\nOrder amounts :\", all_order_amounts)\n",
        "\n",
        "   # Mapping using\n",
        "   order_count_per_user = {user[\"user_id\"]: len(user.get(\"orders\",[])) for user in users_data}\n",
        "   print(\"\\nOrder count per user :\", order_count_per_user)\n"
      ],
      "metadata": {
        "colab": {
          "base_uri": "https://localhost:8080/"
        },
        "id": "kTfdWjd5nacL",
        "outputId": "11078dd4-1c8f-495d-de79-2769fe95b069"
      },
      "execution_count": 50,
      "outputs": [
        {
          "output_type": "stream",
          "name": "stdout",
          "text": [
            "Calculate and print the total amount spent by each user\n"
          ]
        }
      ]
    }
  ]
}