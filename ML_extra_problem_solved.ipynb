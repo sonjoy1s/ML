{
  "nbformat": 4,
  "nbformat_minor": 0,
  "metadata": {
    "colab": {
      "provenance": [],
      "authorship_tag": "ABX9TyPw8BlmEEGx0xFz3DcyxVga",
      "include_colab_link": true
    },
    "kernelspec": {
      "name": "python3",
      "display_name": "Python 3"
    },
    "language_info": {
      "name": "python"
    }
  },
  "cells": [
    {
      "cell_type": "markdown",
      "metadata": {
        "id": "view-in-github",
        "colab_type": "text"
      },
      "source": [
        "<a href=\"https://colab.research.google.com/github/sonjoy1s/ML/blob/main/ML_extra_problem_solved.ipynb\" target=\"_parent\"><img src=\"https://colab.research.google.com/assets/colab-badge.svg\" alt=\"Open In Colab\"/></a>"
      ]
    },
    {
      "cell_type": "code",
      "execution_count": null,
      "metadata": {
        "id": "jFP3xbRuTrcx"
      },
      "outputs": [],
      "source": [
        "#Create a text file named names.txt containing a list of names.\n",
        "#Some names may have extra spaces, inconsistent capitalization (like “aLiCe” or “ bob ”), or appear more than once.\n",
        "#Write a Python program to clean the data by:\n",
        "#1.  Removing extra spaces.\n",
        "#2.  Converting all names so that only the first letter is capitalized.\n",
        "#3.  Removing duplicate names.\n",
        "#4. Sorting the names alphabetically.\n",
        "#Finally, save the cleaned list into a new file named clean_names.txt.\n"
      ]
    },
    {
      "cell_type": "code",
      "source": [
        "# Create a text file named names.txt containing a list of names :\n",
        "#with open(\"./sample_data/names.txt\",\"w\") as file :\n",
        " # file.write(\"aLiCe\")"
      ],
      "metadata": {
        "id": "CUHXFMwmUAcU"
      },
      "execution_count": 15,
      "outputs": []
    },
    {
      "cell_type": "code",
      "source": [
        "# Step 1: Create the names.txt file with messy data\n",
        "names = [\n",
        "    \" aLiCe \",\n",
        "    \"BOB\",\n",
        "    \"  charlie \",\n",
        "    \"alice\",\n",
        "    \"bob \",\n",
        "    \"DAVE\",\n",
        "    \" eve\",\n",
        "    \"Eve \",\n",
        "    \" frank\",\n",
        "    \"  GRACE \",\n",
        "    \"charlie\"\n",
        "]\n",
        "\n",
        "with open(\"names.txt\", \"w\") as f:\n",
        "    for name in names:\n",
        "        f.write(name + \"\\n\")\n",
        "\n",
        "print(\"✅ names.txt created successfully.\")\n",
        "\n",
        "# Step 2: Read and clean the data\n",
        "with open(\"names.txt\", \"r\") as f:\n",
        "    raw_names = f.readlines()"
      ],
      "metadata": {
        "colab": {
          "base_uri": "https://localhost:8080/"
        },
        "id": "7A553wG7diTS",
        "outputId": "c242c14d-2fcb-4eff-8ef6-7b05a87fe3ec"
      },
      "execution_count": 23,
      "outputs": [
        {
          "output_type": "stream",
          "name": "stdout",
          "text": [
            "✅ names.txt created successfully.\n"
          ]
        }
      ]
    },
    {
      "cell_type": "code",
      "source": [
        "with open(\"names.txt\", \"r\") as f:\n",
        "    raw_names = f.readlines()\n",
        "\n",
        "# Clean each name\n",
        "cleaned_names = []\n",
        "for name in raw_names:\n",
        "    # Remove extra spaces and capitalize only first letter\n",
        "    cleaned = name.strip().capitalize()\n",
        "    cleaned_names.append(cleaned)\n",
        "    # Step 3: Remove duplicates and sort alphabetically\n",
        "unique_sorted_names = sorted(set(cleaned_names))"
      ],
      "metadata": {
        "id": "FTRg3NU_lXkg"
      },
      "execution_count": 24,
      "outputs": []
    },
    {
      "cell_type": "code",
      "source": [
        "# Step 4: Save to clean_names.txt\n",
        "with open(\"clean_names.txt\", \"w\") as f:\n",
        "    for name in unique_sorted_names:\n",
        "        f.write(name + \"\\n\")\n",
        "\n",
        "print(\"✅ clean_names.txt created with cleaned and sorted names.\")\n"
      ],
      "metadata": {
        "colab": {
          "base_uri": "https://localhost:8080/"
        },
        "id": "JsrXHcV5ljHI",
        "outputId": "209ce2db-fc33-4d5d-faf8-ba4e3bbf0352"
      },
      "execution_count": 25,
      "outputs": [
        {
          "output_type": "stream",
          "name": "stdout",
          "text": [
            "✅ clean_names.txt created with cleaned and sorted names.\n"
          ]
        }
      ]
    }
  ]
}