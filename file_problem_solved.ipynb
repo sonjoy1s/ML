{
  "nbformat": 4,
  "nbformat_minor": 0,
  "metadata": {
    "colab": {
      "provenance": [],
      "toc_visible": true,
      "authorship_tag": "ABX9TyNbjY/JExhcOMn7HbDwYPur",
      "include_colab_link": true
    },
    "kernelspec": {
      "name": "python3",
      "display_name": "Python 3"
    },
    "language_info": {
      "name": "python"
    }
  },
  "cells": [
    {
      "cell_type": "markdown",
      "metadata": {
        "id": "view-in-github",
        "colab_type": "text"
      },
      "source": [
        "<a href=\"https://colab.research.google.com/github/sonjoy1s/ML/blob/main/file_problem_solved.ipynb\" target=\"_parent\"><img src=\"https://colab.research.google.com/assets/colab-badge.svg\" alt=\"Open In Colab\"/></a>"
      ]
    },
    {
      "cell_type": "code",
      "source": [
        "#Create a text file named emails.txt containing multiple email addresses, some in uppercase and some repeated.\n",
        "#Write a Python program to clean the data by converting all emails to lowercase, removing duplicates, sorting them alphabetically, and saving the cleaned list to a new file named unique_emails.txt.\n"
      ],
      "metadata": {
        "id": "B-epNxlTOQBt"
      },
      "execution_count": null,
      "outputs": []
    },
    {
      "cell_type": "code",
      "execution_count": 5,
      "metadata": {
        "id": "k7MXVfr-H0Xn"
      },
      "outputs": [],
      "source": [
        "# created a email.txt file :\n",
        "with open(\"./sample_data/emails.txt\",\"w\") as file: # w mood used hoy file created korte\n",
        "  file.write(\"Adil@gmail.com\\n\")\n",
        "  file.write(\"Nira@gmail.com\\n\")\n",
        "  file.write(\"Niru@gmail.com\\n\")\n",
        "  file.write(\"Niru@gmail.com\")\n"
      ]
    },
    {
      "cell_type": "code",
      "source": [
        "# lean the data by converting all emails to lowercase, removing duplicates, sorting them alphabetically :\n",
        "with open(\"./sample_data/emails.txt\",\"r\") as file:\n",
        "  email_list = file.readlines()\n",
        "\n",
        "  clean_upper_email = sorted(set(email.strip().lower() for email in email_list))\n",
        "  # ei khane set used hiche ei jonno je set duplicated value ney na\n",
        "  # email.strip().lower() used hoche email address ke lowcase e anar jonno\n",
        "  #sorted used hoiche je email choto take age anar jonno i mean fast line e print koro jonno"
      ],
      "metadata": {
        "id": "-1qzC-vkK8EO"
      },
      "execution_count": 13,
      "outputs": []
    },
    {
      "cell_type": "code",
      "source": [
        "# saving the cleaned list to a new file named unique_emails.txt :\n",
        "with open(\"./sample_data/unique_email.txt\",\"w\") as file :\n",
        "  for new_email in clean_upper_email :\n",
        "     file.write(new_email +\"\\n\")\n",
        "\n"
      ],
      "metadata": {
        "id": "IU0E0VYqOafF"
      },
      "execution_count": 18,
      "outputs": []
    }
  ]
}