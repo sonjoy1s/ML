{
  "nbformat": 4,
  "nbformat_minor": 0,
  "metadata": {
    "colab": {
      "provenance": [],
      "authorship_tag": "ABX9TyOt0UkzZdq8b0ASNdlU1kCh",
      "include_colab_link": true
    },
    "kernelspec": {
      "name": "python3",
      "display_name": "Python 3"
    },
    "language_info": {
      "name": "python"
    }
  },
  "cells": [
    {
      "cell_type": "markdown",
      "metadata": {
        "id": "view-in-github",
        "colab_type": "text"
      },
      "source": [
        "<a href=\"https://colab.research.google.com/github/sonjoy1s/ML/blob/main/Untitled6.ipynb\" target=\"_parent\"><img src=\"https://colab.research.google.com/assets/colab-badge.svg\" alt=\"Open In Colab\"/></a>"
      ]
    },
    {
      "cell_type": "code",
      "execution_count": 3,
      "metadata": {
        "id": "jb6tWrsn_9lc"
      },
      "outputs": [],
      "source": [
        "import numpy as np\n",
        "def calculate_matrix_mean(matrix: list[list[float]], mode: str) -> list[float]:\n",
        "     mat = np.array(matrix)\n",
        "     if mode == 'row':\n",
        "            means = np.mean(mat,axis=1)\n",
        "     else:\n",
        "            means = np.mean(mat,axis=0)\n",
        "     return means"
      ]
    },
    {
      "cell_type": "code",
      "source": [
        "import numpy as np\n",
        "def matrix_dot_vector(a: list[list[int|float]], b: list[int|float]) -> list[int|float]:\n",
        "    # Return a list where each element is the dot product of a row of 'a' with 'b'.\n",
        "    # If the number of columns in 'a' does not match the length of 'b', return -1.\n",
        "    a = np.array(a)\n",
        "    b = np.array(b)\n",
        "    if a.shape[1] != b.size:\n",
        "        return -1\n",
        "    dot = np.dot(a,b).tolist()\n",
        "    return dot"
      ],
      "metadata": {
        "id": "xb6XjnqYHLrB"
      },
      "execution_count": 5,
      "outputs": []
    },
    {
      "cell_type": "code",
      "source": [
        "import numpy as np\n",
        "a = np.array([1,2,3,4,5,6])\n",
        "b =a.reshape(2,3)\n",
        "print(b.shape)"
      ],
      "metadata": {
        "colab": {
          "base_uri": "https://localhost:8080/"
        },
        "id": "Tg11sFPyHoC5",
        "outputId": "f2de419a-6275-4d94-f135-f2a3e671aaa4"
      },
      "execution_count": 6,
      "outputs": [
        {
          "output_type": "stream",
          "name": "stdout",
          "text": [
            "(2, 3)\n"
          ]
        }
      ]
    },
    {
      "cell_type": "code",
      "source": [
        "a = np.array([3,2,1])\n",
        "print(np.sort(a))"
      ],
      "metadata": {
        "colab": {
          "base_uri": "https://localhost:8080/"
        },
        "id": "UDNmUuD1IJho",
        "outputId": "caa5ee5d-8aaa-45f0-d6f5-4a8d600b4d1d"
      },
      "execution_count": 8,
      "outputs": [
        {
          "output_type": "stream",
          "name": "stdout",
          "text": [
            "[1 2 3]\n"
          ]
        }
      ]
    },
    {
      "cell_type": "code",
      "source": [],
      "metadata": {
        "id": "UOp5D3oAIlno"
      },
      "execution_count": null,
      "outputs": []
    }
  ]
}