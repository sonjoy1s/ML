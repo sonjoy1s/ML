{
  "nbformat": 4,
  "nbformat_minor": 0,
  "metadata": {
    "colab": {
      "provenance": [],
      "authorship_tag": "ABX9TyMlCd1FcynoVrLCgu2rjJLs",
      "include_colab_link": true
    },
    "kernelspec": {
      "name": "python3",
      "display_name": "Python 3"
    },
    "language_info": {
      "name": "python"
    }
  },
  "cells": [
    {
      "cell_type": "markdown",
      "metadata": {
        "id": "view-in-github",
        "colab_type": "text"
      },
      "source": [
        "<a href=\"https://colab.research.google.com/github/sonjoy1s/ML/blob/main/Untitled5.ipynb\" target=\"_parent\"><img src=\"https://colab.research.google.com/assets/colab-badge.svg\" alt=\"Open In Colab\"/></a>"
      ]
    },
    {
      "cell_type": "markdown",
      "source": [
        "You have a list of temperatures recorded in Celsius. Your task is to:\n",
        "Create a NumPy array from the given list.\n",
        "Convert all temperatures from Celsius to Fahrenheit. The formula is F = C* 1.8 + 32.\n",
        "Print the new Fahrenheit array\n"
      ],
      "metadata": {
        "id": "NSmc4B0JcvkS"
      }
    },
    {
      "cell_type": "code",
      "execution_count": 4,
      "metadata": {
        "colab": {
          "base_uri": "https://localhost:8080/"
        },
        "id": "agwgDxg1YkGr",
        "outputId": "c3944b44-ac08-45bf-e273-ad1d0df518b8"
      },
      "outputs": [
        {
          "output_type": "stream",
          "name": "stdout",
          "text": [
            "<class 'numpy.ndarray'>\n",
            "[43.8 55.6 67.4 79.2]\n"
          ]
        }
      ],
      "source": [
        "import numpy as np\n",
        "arr = np.array([10, 20, 30, 40])\n",
        "print(type(arr))\n",
        "\n",
        "arr = arr * 1.18 + 32\n",
        "print(arr)"
      ]
    },
    {
      "cell_type": "markdown",
      "source": [
        "### You have a Python list containing the lap times (in seconds) for an athlete.\n",
        "\n",
        "Convert the list into a NumPy array.\n",
        "Print the array's shape, size, and data type.\n",
        "The athlete wants to see their times in minutes. Create a new array by dividing all the lap times by 60.\n",
        "Print the new array of lap times in minutes.\n"
      ],
      "metadata": {
        "id": "zko-10xIck_C"
      }
    },
    {
      "cell_type": "code",
      "source": [
        "lst = [10, 20, 30, 40]\n",
        "arr =np.array(lst)\n",
        "print(arr.shape)\n",
        "print(arr.size)\n",
        "print(arr.dtype)\n",
        "\n",
        "lap = arr/60\n",
        "print(lap)"
      ],
      "metadata": {
        "colab": {
          "base_uri": "https://localhost:8080/"
        },
        "id": "vpbCgvMqairy",
        "outputId": "81c65015-8319-46d7-cb43-cd437aa3274a"
      },
      "execution_count": 8,
      "outputs": [
        {
          "output_type": "stream",
          "name": "stdout",
          "text": [
            "(4,)\n",
            "4\n",
            "int64\n",
            "[0.16666667 0.33333333 0.5        0.66666667]\n"
          ]
        }
      ]
    }
  ]
}