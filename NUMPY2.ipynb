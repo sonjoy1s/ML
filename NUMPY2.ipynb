{
  "nbformat": 4,
  "nbformat_minor": 0,
  "metadata": {
    "colab": {
      "provenance": [],
      "authorship_tag": "ABX9TyP9ti3mW8FJIRZh+iul8+x9",
      "include_colab_link": true
    },
    "kernelspec": {
      "name": "python3",
      "display_name": "Python 3"
    },
    "language_info": {
      "name": "python"
    }
  },
  "cells": [
    {
      "cell_type": "markdown",
      "metadata": {
        "id": "view-in-github",
        "colab_type": "text"
      },
      "source": [
        "<a href=\"https://colab.research.google.com/github/sonjoy1s/ML/blob/main/NUMPY2.ipynb\" target=\"_parent\"><img src=\"https://colab.research.google.com/assets/colab-badge.svg\" alt=\"Open In Colab\"/></a>"
      ]
    },
    {
      "cell_type": "code",
      "execution_count": 2,
      "metadata": {
        "colab": {
          "base_uri": "https://localhost:8080/"
        },
        "id": "4eSk3sdVOlvP",
        "outputId": "24cb1412-2a16-43ed-9911-2fea195a05d1"
      },
      "outputs": [
        {
          "output_type": "stream",
          "name": "stdout",
          "text": [
            "(10, 5)\n"
          ]
        }
      ],
      "source": [
        "import numpy as np\n",
        "arr = np.random.randint(1,100, size =(10,5))\n",
        "print(arr.shape)"
      ]
    },
    {
      "cell_type": "code",
      "source": [
        "b = arr.reshape(5,10)\n",
        "b.shape"
      ],
      "metadata": {
        "colab": {
          "base_uri": "https://localhost:8080/"
        },
        "id": "sOkoHaaDPjhF",
        "outputId": "e64e5f8f-d9a8-4f12-8425-a58170a356ea"
      },
      "execution_count": 3,
      "outputs": [
        {
          "output_type": "execute_result",
          "data": {
            "text/plain": [
              "(5, 10)"
            ]
          },
          "metadata": {},
          "execution_count": 3
        }
      ]
    },
    {
      "cell_type": "code",
      "source": [
        "#covert to 1D\n",
        "flatten = b.flatten()\n",
        "print(flatten.ndim)\n",
        "\n",
        "column_wise_flattening = np.ravel(b,order='c')\n",
        "print(column_wise_flattening)"
      ],
      "metadata": {
        "colab": {
          "base_uri": "https://localhost:8080/"
        },
        "id": "cuhz-LGCQHi1",
        "outputId": "7a5a6c08-dc6a-4551-ccf6-898539abd1e2"
      },
      "execution_count": 6,
      "outputs": [
        {
          "output_type": "stream",
          "name": "stdout",
          "text": [
            "1\n",
            "[47  4 48 22 30 62  9 68 92 71 83 55 65 56 27 42 51 79 75  8 13 36 93 73\n",
            " 25 92 10 63 20 27 30 89 97 39 53 71 67  3 69 86 47 51 22 96  6 12 29 73\n",
            "  8 68]\n"
          ]
        }
      ]
    },
    {
      "cell_type": "code",
      "source": [
        "a = np.random.randint(1,100, size =(2,3))\n",
        "b = np.random.randint(20,30, size =(2,3))\n"
      ],
      "metadata": {
        "colab": {
          "base_uri": "https://localhost:8080/"
        },
        "id": "-FiimtCuRXEF",
        "outputId": "d38faee8-79ff-4442-a2c5-66fc5ba50706"
      },
      "execution_count": 9,
      "outputs": [
        {
          "output_type": "stream",
          "name": "stdout",
          "text": [
            "[[50 35 46]\n",
            " [19 93 45]] [[23 24 28]\n",
            " [26 22 29]]\n"
          ]
        }
      ]
    },
    {
      "cell_type": "code",
      "source": [
        "# Concatenate\n",
        "con_row = np.concatenate((a,b),axis=0) #row wise\n",
        "print(con_row)\n",
        "con_col = np.concatenate((a,b),axis=1) #col wise\n",
        "\n",
        "print(con_col)\n",
        "\n",
        "# amar jodi concetanate col korte jai 2 ta col er line same line value thaka lagbe and row er belay\n",
        "# o ei ek oi kaj"
      ],
      "metadata": {
        "colab": {
          "base_uri": "https://localhost:8080/"
        },
        "id": "7KeEQF8SSIE_",
        "outputId": "c6e6530b-0b82-4378-b95b-24b034d5e31a"
      },
      "execution_count": 11,
      "outputs": [
        {
          "output_type": "stream",
          "name": "stdout",
          "text": [
            "[[50 35 46]\n",
            " [19 93 45]\n",
            " [23 24 28]\n",
            " [26 22 29]]\n",
            "[[50 35 46 23 24 28]\n",
            " [19 93 45 26 22 29]]\n"
          ]
        }
      ]
    },
    {
      "cell_type": "code",
      "source": [
        "# error\n",
        "x = np.random.randint(1,10, size =(2,3))\n",
        "y = np.random.randint(1,10, size =(1,3))\n",
        "r =np.concatenate((x,y),axis=0)\n",
        "print(r)"
      ],
      "metadata": {
        "colab": {
          "base_uri": "https://localhost:8080/"
        },
        "id": "5X7ZIsAbT8p2",
        "outputId": "2edb559f-e797-4c97-c217-f58c8364ba7a"
      },
      "execution_count": 15,
      "outputs": [
        {
          "output_type": "stream",
          "name": "stdout",
          "text": [
            "[[5 2 6]\n",
            " [3 1 8]\n",
            " [2 4 7]]\n"
          ]
        }
      ]
    },
    {
      "cell_type": "code",
      "source": [
        "# Transpose matrix\n",
        "\n",
        "#row ke col e neya\n",
        "mat = np.array([[100,20,4],\n",
        "                [30,40,200]])\n",
        "\n",
        "tr = mat.T\n",
        "print(tr)"
      ],
      "metadata": {
        "colab": {
          "base_uri": "https://localhost:8080/"
        },
        "id": "KcoHNeV0VcS3",
        "outputId": "bad1c3fb-4960-40e4-f765-f75a1b386162"
      },
      "execution_count": 70,
      "outputs": [
        {
          "output_type": "stream",
          "name": "stdout",
          "text": [
            "[[100  30]\n",
            " [ 20  40]\n",
            " [  4 200]]\n"
          ]
        }
      ]
    },
    {
      "cell_type": "code",
      "source": [
        "#array split\n",
        "a = np.random.randint(1,10, size =(10,))\n",
        "print(a)\n",
        "splite_arr =np.array_split(a,3)\n",
        "print(splite_arr)"
      ],
      "metadata": {
        "colab": {
          "base_uri": "https://localhost:8080/"
        },
        "id": "7_1xOUyWWduZ",
        "outputId": "6b39d6c8-bb62-49d6-a07d-2a31b9d0cc3c"
      },
      "execution_count": 21,
      "outputs": [
        {
          "output_type": "stream",
          "name": "stdout",
          "text": [
            "[8 1 8 9 1 7 9 3 2 5]\n",
            "[array([8, 1, 8, 9]), array([1, 7, 9]), array([3, 2, 5])]\n"
          ]
        }
      ]
    },
    {
      "cell_type": "code",
      "source": [
        "# np arithmetic + math operation\n",
        "x = np.array([10,8,30,100])\n",
        "y = np.array([2,3,4,5])\n",
        "\n",
        "add = x + y\n",
        "print(add)\n",
        "\n",
        "sub = x-y\n",
        "print(sub)\n",
        "\n",
        "mul = x*y\n",
        "print(mul)\n",
        "\n",
        "div = x/y\n",
        "print(div)\n",
        "\n",
        "rem = x % y\n",
        "print(rem)"
      ],
      "metadata": {
        "colab": {
          "base_uri": "https://localhost:8080/"
        },
        "id": "_ALqChZlX2GW",
        "outputId": "467cef64-fdae-4524-b85f-23b920a7daf7"
      },
      "execution_count": 29,
      "outputs": [
        {
          "output_type": "stream",
          "name": "stdout",
          "text": [
            "[ 12  11  34 105]\n",
            "[ 8  5 26 95]\n",
            "[ 20  24 120 500]\n",
            "[ 5.          2.66666667  7.5        20.        ]\n",
            "[0 2 2 0]\n"
          ]
        }
      ]
    },
    {
      "cell_type": "code",
      "source": [
        "# math function\n",
        "x = np.array([10,8,16,100])\n",
        "base_10_log_val = np.log10(x)\n",
        "print(base_10_log_val)\n",
        "\n",
        "tow_log_diye_vag = np.log2(x)\n",
        "print(tow_log_diye_vag)\n",
        "\n",
        "sqrt = np.sqrt(x)\n",
        "print(sqrt)"
      ],
      "metadata": {
        "colab": {
          "base_uri": "https://localhost:8080/"
        },
        "id": "6zT1NALYZjne",
        "outputId": "494dd60a-2c98-420e-d3fd-e1156e2a0c8c"
      },
      "execution_count": 36,
      "outputs": [
        {
          "output_type": "stream",
          "name": "stdout",
          "text": [
            "[1.         0.90308999 1.20411998 2.        ]\n",
            "[3.32192809 3.         4.         6.64385619]\n",
            "[ 3.16227766  2.82842712  4.         10.        ]\n"
          ]
        }
      ]
    },
    {
      "cell_type": "code",
      "source": [
        "#sum ber kora\n",
        "s =np.sum(x)\n",
        "print(s)\n",
        "\n",
        "cumul =np.cumsum(x) # Changed cumulative_sum to cumsum\n",
        "print(cumul)"
      ],
      "metadata": {
        "colab": {
          "base_uri": "https://localhost:8080/"
        },
        "id": "9vsXAh5UcTj2",
        "outputId": "0eec7d07-f758-4580-f9f6-c2fdee49f43d"
      },
      "execution_count": 40,
      "outputs": [
        {
          "output_type": "stream",
          "name": "stdout",
          "text": [
            "134\n",
            "[ 10  18  34 134]\n"
          ]
        }
      ]
    },
    {
      "cell_type": "code",
      "source": [
        "# broadcasting\n",
        "x = np.array([10,8,16,100]) #eitar sob ghula value sqrt korbo\n",
        "print(x)\n",
        "result = x**2\n",
        "print(result)\n",
        "rlt = x + 2\n",
        "print(rlt)"
      ],
      "metadata": {
        "colab": {
          "base_uri": "https://localhost:8080/"
        },
        "id": "fMuWDzhBdrfH",
        "outputId": "17b0cc01-481c-4731-d935-39e80a5a495e"
      },
      "execution_count": 43,
      "outputs": [
        {
          "output_type": "stream",
          "name": "stdout",
          "text": [
            "[ 10   8  16 100]\n",
            "[  100    64   256 10000]\n",
            "[ 12  10  18 102]\n"
          ]
        }
      ]
    },
    {
      "cell_type": "code",
      "source": [
        "mat = np.array([[10,20,30],\n",
        "                [30,40,50]])\n",
        "vector = np.array([1,2,3])\n",
        "rlt = mat + vector\n",
        "print(rlt)"
      ],
      "metadata": {
        "colab": {
          "base_uri": "https://localhost:8080/"
        },
        "id": "SvnmfUjkf5Yu",
        "outputId": "5a4c3180-0715-4b0f-c45b-28bc2698cec7"
      },
      "execution_count": 44,
      "outputs": [
        {
          "output_type": "stream",
          "name": "stdout",
          "text": [
            "[[11 22 33]\n",
            " [31 42 53]]\n"
          ]
        }
      ]
    },
    {
      "cell_type": "markdown",
      "source": [
        "###logical Function"
      ],
      "metadata": {
        "id": "0ABqYviTgpTA"
      }
    },
    {
      "cell_type": "code",
      "source": [
        "x = np.array([10,20,30,40])\n",
        "y = np.array([2,3,30,5])\n",
        "\n",
        "gr = x>y\n",
        "print(gr)\n",
        "eq = x == y\n",
        "print(eq)\n",
        "\n",
        "\n",
        "\n",
        "print(np.all(gr))\n",
        "print(np.any(eq))"
      ],
      "metadata": {
        "colab": {
          "base_uri": "https://localhost:8080/"
        },
        "id": "1qC1-xzuguZm",
        "outputId": "1b01f4b8-e1ee-4c11-e6c1-3816ef5d2275"
      },
      "execution_count": 48,
      "outputs": [
        {
          "output_type": "stream",
          "name": "stdout",
          "text": [
            "[ True  True False  True]\n",
            "[False False  True False]\n",
            "False\n",
            "True\n"
          ]
        }
      ]
    },
    {
      "cell_type": "code",
      "source": [
        "# sorting array\n",
        "\n",
        "#inplace\n",
        "x = np.array([10,3,30,5])\n",
        "z = x.copy()\n",
        "print(z)\n",
        "z.sort()\n",
        "print(z)"
      ],
      "metadata": {
        "colab": {
          "base_uri": "https://localhost:8080/"
        },
        "id": "IXf4Pe5-iUNx",
        "outputId": "9b515445-f09b-4ed9-d83c-2e98af79b5b7"
      },
      "execution_count": 53,
      "outputs": [
        {
          "output_type": "stream",
          "name": "stdout",
          "text": [
            "[10  3 30  5]\n",
            "[ 3  5 10 30]\n",
            "[10  3 30  5]\n"
          ]
        }
      ]
    },
    {
      "cell_type": "code",
      "source": [
        "# copy sort\n",
        "print(x)\n",
        "sort_arr = np.sort(x)\n",
        "print(sort_arr)\n",
        "\n",
        "print(x)"
      ],
      "metadata": {
        "colab": {
          "base_uri": "https://localhost:8080/"
        },
        "id": "y8bGpRZrjQLm",
        "outputId": "4ac4dc85-cd40-46bf-d8bb-3c8acf280785"
      },
      "execution_count": 52,
      "outputs": [
        {
          "output_type": "stream",
          "name": "stdout",
          "text": [
            "[10  3 30  5]\n",
            "[ 3  5 10 30]\n",
            "[10  3 30  5]\n"
          ]
        }
      ]
    },
    {
      "cell_type": "code",
      "source": [
        "# 2D sorting\n",
        "x = np.array([[10,3,30,5],[9,4,6,2]])\n",
        "hor_sort = np.sort(x,axis=1)\n",
        "print(hor_sort)\n",
        "\n",
        "br_sort = np.sort(x,axis=0)\n",
        "print(br_sort)\n"
      ],
      "metadata": {
        "colab": {
          "base_uri": "https://localhost:8080/"
        },
        "id": "XZUnM25Ej8Mv",
        "outputId": "2407b814-c395-4ed9-88fa-dfbbcd93f308"
      },
      "execution_count": 55,
      "outputs": [
        {
          "output_type": "stream",
          "name": "stdout",
          "text": [
            "[[ 3  5 10 30]\n",
            " [ 2  4  6  9]]\n",
            "[[ 9  3  6  2]\n",
            " [10  4 30  5]]\n"
          ]
        }
      ]
    },
    {
      "cell_type": "code",
      "source": [
        "# searching\n",
        "print(x)\n"
      ],
      "metadata": {
        "colab": {
          "base_uri": "https://localhost:8080/"
        },
        "id": "L4NEvS0ilE6P",
        "outputId": "c080f3fd-3cfd-4427-84f6-8ed523fa3e2b"
      },
      "execution_count": 56,
      "outputs": [
        {
          "output_type": "stream",
          "name": "stdout",
          "text": [
            "[[10  3 30  5]\n",
            " [ 9  4  6  2]]\n"
          ]
        }
      ]
    },
    {
      "cell_type": "code",
      "source": [
        "#np.where\n",
        "x =np.array([10,3,4,2,8])\n",
        "index = np.where(x==3)\n",
        "print(index)\n",
        "\n",
        "index = np.where(x>3,x,0)\n",
        "print(index)"
      ],
      "metadata": {
        "colab": {
          "base_uri": "https://localhost:8080/"
        },
        "id": "p5gCBndDlZHe",
        "outputId": "2b44fc66-cbfe-4bff-f856-85eb28cb86cf"
      },
      "execution_count": 61,
      "outputs": [
        {
          "output_type": "stream",
          "name": "stdout",
          "text": [
            "(array([1]),)\n",
            "[10  0  4  0  8]\n"
          ]
        }
      ]
    },
    {
      "cell_type": "code",
      "source": [
        "print(mat)\n",
        "\n",
        "index = np.where(mat>3)\n",
        "print(index)\n",
        "\n",
        "index = np.where(mat<40,mat,0)\n",
        "print(index)"
      ],
      "metadata": {
        "colab": {
          "base_uri": "https://localhost:8080/"
        },
        "id": "_lIN3pk8nKLQ",
        "outputId": "4a8c1206-6806-45e7-fe94-5dac9032704a"
      },
      "execution_count": 71,
      "outputs": [
        {
          "output_type": "stream",
          "name": "stdout",
          "text": [
            "[[100  20   4]\n",
            " [ 30  40 200]]\n",
            "(array([0, 0, 0, 1, 1, 1]), array([0, 1, 2, 0, 1, 2]))\n",
            "[[ 0 20  4]\n",
            " [30  0  0]]\n"
          ]
        }
      ]
    },
    {
      "cell_type": "code",
      "source": [
        "max_val_in = np.argmax(mat)\n",
        "print(max_val_in)\n",
        "min_val_in = np.argmin(mat)\n",
        "print(min_val_in)"
      ],
      "metadata": {
        "colab": {
          "base_uri": "https://localhost:8080/"
        },
        "id": "Fw-gy998ohxW",
        "outputId": "7816bbf7-eda7-4984-a296-3c410b5c12d1"
      },
      "execution_count": 72,
      "outputs": [
        {
          "output_type": "stream",
          "name": "stdout",
          "text": [
            "5\n",
            "2\n"
          ]
        }
      ]
    },
    {
      "cell_type": "code",
      "source": [
        "# count\n",
        "a = np.random.randint(1,100, size =(100,))\n",
        "print(a)"
      ],
      "metadata": {
        "colab": {
          "base_uri": "https://localhost:8080/"
        },
        "id": "XFqK8mWUoYjf",
        "outputId": "a370ee42-b54e-4557-db10-1a3c1eb40fbf"
      },
      "execution_count": 74,
      "outputs": [
        {
          "output_type": "stream",
          "name": "stdout",
          "text": [
            "[59 57 64 55 89 93 49  3 44 10 72 66 24 93 74  4 26 66 23 66 12 90  8 25\n",
            " 55 54 42 73 83 22 43  9 41 57  8 65 67 17  5 92 94 56 84 25 74 77 91 44\n",
            " 36 51 64  9 25 87 62 12 28 65 79 54 63 98 73 95 56 45 11 20 46 10 40 84\n",
            " 32  2 40 92 70 92 69 97 68 19  6  8 60 41 42 79 26 37 62 40  5 68 86 61\n",
            " 88 25  8 76]\n"
          ]
        }
      ]
    },
    {
      "cell_type": "code",
      "source": [
        "value_gr_than_60 = np.count_nonzero(a==30)\n",
        "print(value_gr_than_60)\n",
        "\n"
      ],
      "metadata": {
        "colab": {
          "base_uri": "https://localhost:8080/"
        },
        "id": "XwkafnzGwf2_",
        "outputId": "8b5c8f15-6904-4f8a-abd8-18f1212d4789"
      },
      "execution_count": 81,
      "outputs": [
        {
          "output_type": "stream",
          "name": "stdout",
          "text": [
            "30\n"
          ]
        }
      ]
    },
    {
      "cell_type": "code",
      "source": [
        "unique_val,count = np.unique(a,return_counts=True)\n",
        "print(unique_val)\n",
        "print(count)"
      ],
      "metadata": {
        "colab": {
          "base_uri": "https://localhost:8080/"
        },
        "id": "ygAhh_HFxTAg",
        "outputId": "1c2cc855-2fa3-45a6-a99d-5d75ea4b22f1"
      },
      "execution_count": 85,
      "outputs": [
        {
          "output_type": "stream",
          "name": "stdout",
          "text": [
            "[ 2  3  4  5  6  8  9 10 11 12 17 19 20 22 23 24 25 26 28 32 36 37 40 41\n",
            " 42 43 44 45 46 49 51 54 55 56 57 59 60 61 62 63 64 65 66 67 68 69 70 72\n",
            " 73 74 76 77 79 83 84 86 87 88 89 90 91 92 93 94 95 97 98]\n",
            "[1 1 1 2 1 4 2 2 1 2 1 1 1 1 1 1 4 2 1 1 1 1 3 2 2 1 2 1 1 1 1 2 2 2 2 1 1\n",
            " 1 2 1 2 2 3 1 2 1 1 1 2 2 1 1 2 1 2 1 1 1 1 1 1 3 2 1 1 1 1]\n"
          ]
        }
      ]
    },
    {
      "cell_type": "markdown",
      "source": [
        "###satatics math\n"
      ],
      "metadata": {
        "id": "KRdD3K5-zsu7"
      }
    },
    {
      "cell_type": "code",
      "source": [
        "# data_load\n",
        "data = np.genfromtxt('/student_scores.csv',delimiter=',',skip_header=1)\n",
        "print(data)"
      ],
      "metadata": {
        "colab": {
          "base_uri": "https://localhost:8080/"
        },
        "id": "y01sdKI5z16Q",
        "outputId": "2a988893-89f2-42e3-b5d5-b2faace37576"
      },
      "execution_count": 92,
      "outputs": [
        {
          "output_type": "stream",
          "name": "stdout",
          "text": [
            "[[78. 85. 82.]\n",
            " [56. 67. 72.]\n",
            " [89. 92. 88.]\n",
            " [45. 52. 58.]\n",
            " [70. 75. 80.]\n",
            " [92. 90. 91.]\n",
            " [61. 60. 62.]\n",
            " [55. 57. 54.]\n",
            " [88. 89. 87.]\n",
            " [74. 70. 76.]\n",
            " [66. 69. 68.]\n",
            " [80. 82. 81.]\n",
            " [59. 64. 60.]\n",
            " [73. 78. 74.]\n",
            " [91. 93. 90.]\n",
            " [68. 71. 69.]\n",
            " [77. 79. 78.]\n",
            " [84. 86. 85.]\n",
            " [62. 63. 65.]\n",
            " [95. 97. 96.]]\n"
          ]
        }
      ]
    },
    {
      "cell_type": "code",
      "source": [
        "math_mark = data[::,:1]\n",
        "print(math_mark.T)\n",
        "max_math = np.max(math_mark)\n",
        "print(max_math)\n",
        "\n",
        "min_math = np.min(math_mark)\n",
        "print(min_math)\n",
        "avg = np.mean(math_mark)\n",
        "print(avg)\n",
        "\n",
        "median_math_mrk = np.median(math_mark)\n",
        "print(median_math_mrk)\n",
        "\n",
        "\n",
        "#standrad deviation\n",
        "\n",
        "std_math_mark = np.std(math_mark)\n",
        "print(std_math_mark)"
      ],
      "metadata": {
        "colab": {
          "base_uri": "https://localhost:8080/"
        },
        "id": "JF2u0aMI2zOY",
        "outputId": "a4e8da08-45dc-41e3-baf4-1bb7d731baa2"
      },
      "execution_count": 101,
      "outputs": [
        {
          "output_type": "stream",
          "name": "stdout",
          "text": [
            "[[78. 56. 89. 45. 70. 92. 61. 55. 88. 74. 66. 80. 59. 73. 91. 68. 77. 84.\n",
            "  62. 95.]]\n",
            "95.0\n",
            "45.0\n",
            "73.15\n",
            "73.5\n",
            "13.788672887555204\n"
          ]
        }
      ]
    },
    {
      "cell_type": "code",
      "source": [
        "study_h = np.array([2,4,5,7,8])\n",
        "exm_score = np.array([65,75,78,88,92])\n",
        "data = np.array([study_h,exm_score])\n",
        "correlation = np.corrcoef(data)\n",
        "print(correlation)"
      ],
      "metadata": {
        "colab": {
          "base_uri": "https://localhost:8080/"
        },
        "id": "0Ivawb6Q5vBI",
        "outputId": "248abd3f-bc98-4457-a3f8-6b706b1febb2"
      },
      "execution_count": 103,
      "outputs": [
        {
          "output_type": "stream",
          "name": "stdout",
          "text": [
            "[[1.         0.99859154]\n",
            " [0.99859154 1.        ]]\n"
          ]
        }
      ]
    },
    {
      "cell_type": "markdown",
      "source": [
        "###Linear Algebra"
      ],
      "metadata": {
        "id": "_fLR6qEE62VA"
      }
    },
    {
      "cell_type": "code",
      "source": [
        "A =np.array([[1,2,3],\n",
        "             [4,5,6]\n",
        "             ])\n",
        "B = np.array([[7,8],\n",
        "              [9,10],\n",
        "              [11,12]   # a er col ar b er row same lenght howa lagbe\n",
        "              ])\n",
        "dot_product = np.dot(A,B)\n",
        "print(dot_product)\n",
        "print(np.trace(A))"
      ],
      "metadata": {
        "colab": {
          "base_uri": "https://localhost:8080/"
        },
        "id": "cLpVnYfh66dw",
        "outputId": "87168f78-e4d7-4522-fbbd-ebf64aad1c6d"
      },
      "execution_count": 107,
      "outputs": [
        {
          "output_type": "stream",
          "name": "stdout",
          "text": [
            "[[ 58  64]\n",
            " [139 154]]\n",
            "6\n"
          ]
        }
      ]
    },
    {
      "cell_type": "code",
      "source": [
        "sq_mat =np.array([[1,2,3],\n",
        "          [4,5,6],\n",
        "          [7,8,9]\n",
        "          ])\n",
        "det_of_s = np.linalg.det(sq_mat)\n",
        "\n",
        "rank_sq = np.linalg.matrix_rank(sq_mat)\n",
        "print(det_of_s)\n",
        "print(rank_sq)"
      ],
      "metadata": {
        "colab": {
          "base_uri": "https://localhost:8080/"
        },
        "id": "Ya45G2GD9mrx",
        "outputId": "adb5c48e-0dd4-4d98-f486-ddd03ddade00"
      },
      "execution_count": 112,
      "outputs": [
        {
          "output_type": "stream",
          "name": "stdout",
          "text": [
            "0.0\n",
            "2\n"
          ]
        }
      ]
    }
  ]
}