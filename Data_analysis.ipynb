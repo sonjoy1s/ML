{
  "nbformat": 4,
  "nbformat_minor": 0,
  "metadata": {
    "colab": {
      "provenance": [],
      "authorship_tag": "ABX9TyMmKxizEkx+QVGyJWnZa19F",
      "include_colab_link": true
    },
    "kernelspec": {
      "name": "python3",
      "display_name": "Python 3"
    },
    "language_info": {
      "name": "python"
    }
  },
  "cells": [
    {
      "cell_type": "markdown",
      "metadata": {
        "id": "view-in-github",
        "colab_type": "text"
      },
      "source": [
        "<a href=\"https://colab.research.google.com/github/sonjoy1s/ML/blob/main/Data_analysis.ipynb\" target=\"_parent\"><img src=\"https://colab.research.google.com/assets/colab-badge.svg\" alt=\"Open In Colab\"/></a>"
      ]
    },
    {
      "cell_type": "code",
      "execution_count": null,
      "metadata": {
        "id": "MIFQh33tL4rJ"
      },
      "outputs": [],
      "source": []
    },
    {
      "cell_type": "markdown",
      "source": [
        "Data analysis and Data Processing\n",
        "\n",
        "NumPy"
      ],
      "metadata": {
        "id": "WmX4OzNYPm3R"
      }
    },
    {
      "cell_type": "code",
      "source": [
        "# Ndarray : N demensional array\n",
        "import numpy as np\n",
        "arr1 = np.array([1,2,3])\n",
        "arr2 = arr1 * 5\n",
        "print(arr2)"
      ],
      "metadata": {
        "colab": {
          "base_uri": "https://localhost:8080/"
        },
        "id": "CD071KPkP4eH",
        "outputId": "313098aa-7df9-4025-e97c-32db9872c70c"
      },
      "execution_count": null,
      "outputs": [
        {
          "output_type": "stream",
          "name": "stdout",
          "text": [
            "[ 5 10 15]\n"
          ]
        }
      ]
    },
    {
      "cell_type": "markdown",
      "source": [
        "Ndarray"
      ],
      "metadata": {
        "id": "15nT1rC_QmlK"
      }
    },
    {
      "cell_type": "code",
      "source": [
        "import numpy as np\n",
        "arr1 = np.array([1, 2, 3, 4,5])\n",
        "print(type(arr1))\n",
        "print(arr1.ndim)\n",
        "\n",
        "# 2D array\n",
        "arr2 = np.array([[1, 2, 3], #row 1\n",
        "                 [4, 5, 6] # row 2\n",
        "                 ])\n",
        "print(arr2.ndim)\n",
        "\n",
        "\n",
        "# 3D array :- 3D array holo ekta array vitor onek ghula 2D array\n",
        "arr3 = np.array([\n",
        "    # 1st floor\n",
        "    [[1,2,3],# row1\n",
        "     [4,5,6] ], #row2\n",
        "    # 2nd floor\n",
        "    [[1,2,3],# row1\n",
        "     [4,5,6] ]#row2\n",
        "\n",
        "])\n",
        "print(arr3.ndim)"
      ],
      "metadata": {
        "colab": {
          "base_uri": "https://localhost:8080/"
        },
        "id": "Rnvpk89tQrny",
        "outputId": "d669e008-d2cd-48ea-9986-21957fa827f2"
      },
      "execution_count": 19,
      "outputs": [
        {
          "output_type": "stream",
          "name": "stdout",
          "text": [
            "<class 'numpy.ndarray'>\n",
            "1\n",
            "2\n",
            "3\n"
          ]
        }
      ]
    },
    {
      "cell_type": "markdown",
      "source": [
        "Array Attributes"
      ],
      "metadata": {
        "id": "PM1BLFMeXWkO"
      }
    },
    {
      "cell_type": "code",
      "source": [
        "# dimension\n",
        "print(arr1.ndim)\n",
        "print(arr2.ndim)\n",
        "print(arr3.ndim)\n",
        "\n",
        "\n",
        "#shape\n",
        "print(arr1.shape)\n",
        "print(arr2.shape)\n",
        "print(arr3.shape)\n",
        "\n",
        "\n",
        "# datatype\n",
        "print(arr1.dtype)\n",
        "print(arr2.dtype)\n",
        "print(arr3.dtype)\n",
        "\n",
        "\n",
        "\n",
        "# size\n",
        "print(arr1.size)\n",
        "print(arr2.size)\n",
        "print(arr3.size)\n"
      ],
      "metadata": {
        "colab": {
          "base_uri": "https://localhost:8080/"
        },
        "id": "seBMgkvMXWPH",
        "outputId": "8e792451-2643-480d-ea1d-8fad662ecd07"
      },
      "execution_count": null,
      "outputs": [
        {
          "output_type": "stream",
          "name": "stdout",
          "text": [
            "1\n",
            "2\n",
            "3\n",
            "(5,)\n",
            "(2, 3)\n",
            "(2, 2, 3)\n",
            "int64\n",
            "int64\n",
            "int64\n",
            "5\n",
            "6\n",
            "12\n"
          ]
        }
      ]
    },
    {
      "cell_type": "markdown",
      "source": [
        "DataType"
      ],
      "metadata": {
        "id": "durp168ocj2f"
      }
    },
    {
      "cell_type": "code",
      "source": [
        "arr1 = np.array([1,2,3])\n",
        "print(arr1.dtype)\n",
        "\n",
        "arr2 = np.array([1.5 , 6.7, 7.0])\n",
        "print(arr2.dtype)\n",
        "\n",
        "arr3 = np.array([1, 6, 7.0])\n",
        "print(arr3.dtype)\n",
        "\n",
        "arr4 = np.array([1, 6.7, '3'])\n",
        "print(arr4.dtype)"
      ],
      "metadata": {
        "colab": {
          "base_uri": "https://localhost:8080/"
        },
        "id": "USMZVu0ecm92",
        "outputId": "b9479310-9068-495b-c622-dc94405a7793"
      },
      "execution_count": null,
      "outputs": [
        {
          "output_type": "stream",
          "name": "stdout",
          "text": [
            "int64\n",
            "float64\n",
            "float64\n",
            "<U32\n"
          ]
        }
      ]
    },
    {
      "cell_type": "code",
      "source": [
        "# selection of datatype\n",
        "import numpy as np\n",
        "arr1 = np.array([1,2,3], dtype =np.int8)\n",
        "print(arr1.dtype)\n",
        "arr1 = arr1.astype(np.int16)\n",
        "print(arr1.dtype)"
      ],
      "metadata": {
        "colab": {
          "base_uri": "https://localhost:8080/"
        },
        "id": "0dtJy-L49h2a",
        "outputId": "cbb81cee-0991-4c4f-f9cd-7d4af24140af"
      },
      "execution_count": 3,
      "outputs": [
        {
          "output_type": "stream",
          "name": "stdout",
          "text": [
            "int8\n",
            "int16\n"
          ]
        }
      ]
    },
    {
      "cell_type": "markdown",
      "source": [
        "ndarray creation from existing data :\n"
      ],
      "metadata": {
        "id": "wFeN7zz_AA3Y"
      }
    },
    {
      "cell_type": "code",
      "source": [
        "# List\n",
        "lst = [10,20,30,40.5]\n",
        "arr = np.array(lst)\n",
        "arr1 =arr.astype(np.int32)\n",
        "print(arr)\n",
        "print(type(arr))\n",
        "print(arr1.dtype)\n",
        "\n",
        "\n",
        "lst1 =[10, True, 'abc',19.5]\n",
        "arr2 = np.array(lst1)\n",
        "print(arr2)\n",
        "print(arr2.dtype)\n",
        "\n",
        "\n",
        "\n",
        "\n",
        "#matrix\n",
        "matrix = np.array([[1, 2, 3], #row 1\n",
        "                 [4, 5, 6] # row 2\n",
        "                 ])\n",
        "arr = np.array(matrix)\n",
        "print(arr)\n",
        "print(type(arr))\n",
        "print(arr.dtype)\n",
        "print(arr.shape)\n",
        "print(arr.ndim)"
      ],
      "metadata": {
        "colab": {
          "base_uri": "https://localhost:8080/"
        },
        "id": "QUVt-ixrAJ3w",
        "outputId": "9ebba83e-b62d-4229-9277-8a60f8c3f3c2"
      },
      "execution_count": 15,
      "outputs": [
        {
          "output_type": "stream",
          "name": "stdout",
          "text": [
            "[10.  20.  30.  40.5]\n",
            "<class 'numpy.ndarray'>\n",
            "int32\n",
            "['10' 'True' 'abc' '19.5']\n",
            "<U32\n",
            "[[1 2 3]\n",
            " [4 5 6]]\n",
            "<class 'numpy.ndarray'>\n",
            "int64\n",
            "(2, 3)\n",
            "2\n"
          ]
        }
      ]
    },
    {
      "cell_type": "code",
      "source": [
        "# tuple\n",
        "tpl =(10,20,30)\n",
        "arr = np.array(tpl)\n",
        "print(arr)\n",
        "print(type(arr))\n",
        "print(arr.dtype)\n",
        "print(arr.shape)\n",
        "print(arr.ndim)"
      ],
      "metadata": {
        "colab": {
          "base_uri": "https://localhost:8080/"
        },
        "id": "CpblN9mmDtcw",
        "outputId": "3d30f9d1-9ee6-4843-a5ed-4860104ef503"
      },
      "execution_count": 16,
      "outputs": [
        {
          "output_type": "stream",
          "name": "stdout",
          "text": [
            "[10 20 30]\n",
            "<class 'numpy.ndarray'>\n",
            "int64\n",
            "(3,)\n",
            "1\n"
          ]
        }
      ]
    },
    {
      "cell_type": "code",
      "source": [
        "# Set\n",
        "St ={10, 60, 50 ,70}\n",
        "arr = np.array(St)\n",
        "print(arr)\n",
        "print(type(arr))\n",
        "print(arr.dtype)\n",
        "print(arr.shape)\n",
        "print(arr.ndim)"
      ],
      "metadata": {
        "colab": {
          "base_uri": "https://localhost:8080/"
        },
        "id": "LuZaxBYEEFlI",
        "outputId": "09652c1e-4ce4-4d10-aa30-fd5f7be476f7"
      },
      "execution_count": 18,
      "outputs": [
        {
          "output_type": "stream",
          "name": "stdout",
          "text": [
            "{10, 60, 50, 70}\n",
            "<class 'numpy.ndarray'>\n",
            "object\n",
            "()\n",
            "0\n"
          ]
        }
      ]
    },
    {
      "cell_type": "code",
      "source": [
        "# Set cover list *** list e covert kore nite hoy\n",
        "St ={10, 60, 50 ,70}\n",
        "arr = np.array(list(St))\n",
        "arr = arr.astype(np.int32)\n",
        "print(arr)\n",
        "print(type(arr))\n",
        "print(arr.dtype)\n",
        "print(arr.shape)\n",
        "print(arr.ndim)"
      ],
      "metadata": {
        "colab": {
          "base_uri": "https://localhost:8080/"
        },
        "id": "YQW2N19mFI6Y",
        "outputId": "d2a89cfa-075a-48dd-85b8-0fadf06ded2b"
      },
      "execution_count": 20,
      "outputs": [
        {
          "output_type": "stream",
          "name": "stdout",
          "text": [
            "[10 60 50 70]\n",
            "<class 'numpy.ndarray'>\n",
            "int32\n",
            "(4,)\n",
            "1\n"
          ]
        }
      ]
    },
    {
      "cell_type": "code",
      "source": [
        "# dictionary\n",
        "dc = {'a':10, 'b':20, 'c':30}\n",
        "#arr = np.array(dc)\n",
        "#print(type(dc))\n",
        "keys = dc.keys()\n",
        "print(keys)\n",
        "values = dc.values()\n",
        "print(values)\n",
        "items = dc.items()\n",
        "print(items)"
      ],
      "metadata": {
        "colab": {
          "base_uri": "https://localhost:8080/"
        },
        "id": "bjwbq5YFF-lo",
        "outputId": "c461389a-b904-4b21-8a60-c2a58084d83c"
      },
      "execution_count": 1,
      "outputs": [
        {
          "output_type": "stream",
          "name": "stdout",
          "text": [
            "dict_keys(['a', 'b', 'c'])\n",
            "dict_values([10, 20, 30])\n",
            "dict_items([('a', 10), ('b', 20), ('c', 30)])\n"
          ]
        }
      ]
    },
    {
      "cell_type": "code",
      "source": [
        "# dictionary\n",
        "dc = {'a':10, 'b':20, 'c':30}\n",
        "#arr = np.array(dc)\n",
        "#print(type(dc))\n",
        "arr = np.array(list(keys))\n",
        "print(arr)\n",
        "keys = dc.keys()\n",
        "print(keys)\n",
        "print(arr.shape)\n",
        "print(arr.dtype)\n",
        "values = dc.values()\n",
        "print(values)\n",
        "items = dc.items()\n",
        "print(items)\n",
        "print(arr.size)"
      ],
      "metadata": {
        "colab": {
          "base_uri": "https://localhost:8080/"
        },
        "id": "aGnnFsm5ymoo",
        "outputId": "37b75e97-e6f8-4a3c-edac-67a819cb2547"
      },
      "execution_count": 6,
      "outputs": [
        {
          "output_type": "stream",
          "name": "stdout",
          "text": [
            "['a' 'b' 'c']\n",
            "dict_keys(['a', 'b', 'c'])\n",
            "(3,)\n",
            "<U1\n",
            "dict_values([10, 20, 30])\n",
            "dict_items([('a', 10), ('b', 20), ('c', 30)])\n",
            "3\n"
          ]
        }
      ]
    },
    {
      "cell_type": "code",
      "source": [
        "# values to ndarray\n",
        "dc = {'a':10, 'b':20, 'c':30}\n",
        "#arr = np.array(dc)\n",
        "#print(type(dc))\n",
        "arr = np.array(list(values))\n",
        "print(arr)\n",
        "print(type(arr))\n",
        "print(arr.shape)\n",
        "print(arr.dtype)\n",
        "values = dc.values()\n",
        "print(values)\n",
        "items = dc.items()\n",
        "print(items)\n",
        "print(arr.size)"
      ],
      "metadata": {
        "colab": {
          "base_uri": "https://localhost:8080/"
        },
        "id": "r8iYLcGc0Pho",
        "outputId": "5f97450c-b780-4d97-9b68-48b7366f5dfb"
      },
      "execution_count": 8,
      "outputs": [
        {
          "output_type": "stream",
          "name": "stdout",
          "text": [
            "[10 20 30]\n",
            "<class 'numpy.ndarray'>\n",
            "(3,)\n",
            "int64\n",
            "dict_values([10, 20, 30])\n",
            "dict_items([('a', 10), ('b', 20), ('c', 30)])\n",
            "3\n"
          ]
        }
      ]
    },
    {
      "cell_type": "code",
      "source": [
        "# Items to ndarray\n",
        "dc = {'a':10, 'b':20, 'c':30}\n",
        "#arr = np.array(dc)\n",
        "#print(type(dc))\n",
        "arr = np.array(list(items))\n",
        "print(arr)\n",
        "print(type(arr))\n",
        "print(arr.dtype)\n",
        "print(arr.shape)\n",
        "print(values)\n",
        "print(arr.size)\n",
        "print(keys)\n",
        "print(arr.ndim)"
      ],
      "metadata": {
        "colab": {
          "base_uri": "https://localhost:8080/"
        },
        "id": "4IeYSvel0xRh",
        "outputId": "374b3f37-af7d-4fcb-f265-edf0c75fc4b6"
      },
      "execution_count": 13,
      "outputs": [
        {
          "output_type": "stream",
          "name": "stdout",
          "text": [
            "[['a' '10']\n",
            " ['b' '20']\n",
            " ['c' '30']]\n",
            "<class 'numpy.ndarray'>\n",
            "<U21\n",
            "(3, 2)\n",
            "dict_values([10, 20, 30])\n",
            "6\n",
            "dict_keys(['a', 'b', 'c'])\n",
            "2\n"
          ]
        }
      ]
    },
    {
      "cell_type": "code",
      "source": [
        "# np.zeros\n",
        "\n",
        "arr =np.zeros((2,3),dtype =np.int8)\n",
        "\n",
        "print(arr)\n",
        "print(type(arr))\n",
        "print(arr.dtype)\n",
        "print(arr.shape)\n",
        "arr = np.zeros_like(arr3)\n",
        "print(arr)\n",
        "print(arr.ndim)\n",
        "print(arr.size)"
      ],
      "metadata": {
        "colab": {
          "base_uri": "https://localhost:8080/"
        },
        "id": "Wf96jsPj2J4j",
        "outputId": "eb2b19b5-56c0-4783-b90a-9e31ca680e60"
      },
      "execution_count": 20,
      "outputs": [
        {
          "output_type": "stream",
          "name": "stdout",
          "text": [
            "[[0 0 0]\n",
            " [0 0 0]]\n",
            "<class 'numpy.ndarray'>\n",
            "int8\n",
            "(2, 3)\n",
            "[[[0 0 0]\n",
            "  [0 0 0]]\n",
            "\n",
            " [[0 0 0]\n",
            "  [0 0 0]]]\n",
            "3\n",
            "12\n"
          ]
        }
      ]
    },
    {
      "cell_type": "code",
      "source": [
        "# np.ones\n",
        "\n",
        "arr =np.ones((3,4,3),dtype =np.int8)\n",
        "\n",
        "print(arr)\n",
        "print(type(arr))\n",
        "print(arr.dtype)\n",
        "print(arr.shape)\n",
        "arr = np.ones_like(arr3)\n",
        "print(arr)\n",
        "print(arr.ndim)\n",
        "print(arr.size)"
      ],
      "metadata": {
        "colab": {
          "base_uri": "https://localhost:8080/"
        },
        "id": "aNUL11hD4Ml5",
        "outputId": "805cdd1b-458a-4ac4-855f-058746c9c1d1"
      },
      "execution_count": 24,
      "outputs": [
        {
          "output_type": "stream",
          "name": "stdout",
          "text": [
            "[[[1 1 1]\n",
            "  [1 1 1]\n",
            "  [1 1 1]\n",
            "  [1 1 1]]\n",
            "\n",
            " [[1 1 1]\n",
            "  [1 1 1]\n",
            "  [1 1 1]\n",
            "  [1 1 1]]\n",
            "\n",
            " [[1 1 1]\n",
            "  [1 1 1]\n",
            "  [1 1 1]\n",
            "  [1 1 1]]]\n",
            "<class 'numpy.ndarray'>\n",
            "int8\n",
            "(3, 4, 3)\n",
            "[[[1 1 1]\n",
            "  [1 1 1]]\n",
            "\n",
            " [[1 1 1]\n",
            "  [1 1 1]]]\n",
            "3\n",
            "12\n"
          ]
        }
      ]
    },
    {
      "cell_type": "code",
      "source": [
        "# np.empty\n",
        "\n",
        "arr =np.empty((4,3),dtype =np.int8)\n",
        "\n",
        "print(arr)\n",
        "print(type(arr))\n",
        "print(arr.dtype)\n",
        "print(arr.shape)\n",
        "print(arr.ndim)\n",
        "print(arr.size)\n",
        "\n",
        "arr = np.empty_like(arr3)\n",
        "print(arr)\n",
        "print(arr.shape)"
      ],
      "metadata": {
        "colab": {
          "base_uri": "https://localhost:8080/"
        },
        "id": "BxYce94h475B",
        "outputId": "93667cdc-4f73-4340-b1b2-228ef51ce192"
      },
      "execution_count": 30,
      "outputs": [
        {
          "output_type": "stream",
          "name": "stdout",
          "text": [
            "[[1 1 1]\n",
            " [1 1 1]\n",
            " [1 1 1]\n",
            " [1 1 1]]\n",
            "<class 'numpy.ndarray'>\n",
            "int8\n",
            "(4, 3)\n",
            "2\n",
            "12\n",
            "[[[0 0 0]\n",
            "  [0 0 0]]\n",
            "\n",
            " [[0 0 0]\n",
            "  [0 0 0]]]\n",
            "(2, 2, 3)\n"
          ]
        }
      ]
    },
    {
      "cell_type": "code",
      "source": [
        "#np.full\n",
        "\n",
        "arr =np.full((4,3),10)\n",
        "\n",
        "print(arr)\n",
        "print(type(arr))\n",
        "print(arr.dtype)\n",
        "print(arr.shape)\n",
        "print(arr.ndim)\n",
        "print(arr.size)\n",
        "\n",
        "arr = np.full_like(arr3,10.5)\n",
        "print(arr)\n",
        "print(arr.shape)"
      ],
      "metadata": {
        "colab": {
          "base_uri": "https://localhost:8080/"
        },
        "id": "95_C2LNS6EYy",
        "outputId": "fb16fd01-ea5f-40d5-c7bf-15c80c7486df"
      },
      "execution_count": 36,
      "outputs": [
        {
          "output_type": "stream",
          "name": "stdout",
          "text": [
            "[[10 10 10]\n",
            " [10 10 10]\n",
            " [10 10 10]\n",
            " [10 10 10]]\n",
            "<class 'numpy.ndarray'>\n",
            "int64\n",
            "(4, 3)\n",
            "2\n",
            "12\n",
            "[[[10 10 10]\n",
            "  [10 10 10]]\n",
            "\n",
            " [[10 10 10]\n",
            "  [10 10 10]]]\n",
            "(2, 2, 3)\n"
          ]
        }
      ]
    }
  ]
}