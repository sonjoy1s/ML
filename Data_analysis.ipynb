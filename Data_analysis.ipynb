{
  "nbformat": 4,
  "nbformat_minor": 0,
  "metadata": {
    "colab": {
      "provenance": [],
      "authorship_tag": "ABX9TyOS+BuTnbViyLEBENx1BFQ7",
      "include_colab_link": true
    },
    "kernelspec": {
      "name": "python3",
      "display_name": "Python 3"
    },
    "language_info": {
      "name": "python"
    }
  },
  "cells": [
    {
      "cell_type": "markdown",
      "metadata": {
        "id": "view-in-github",
        "colab_type": "text"
      },
      "source": [
        "<a href=\"https://colab.research.google.com/github/sonjoy1s/ML/blob/main/Data_analysis.ipynb\" target=\"_parent\"><img src=\"https://colab.research.google.com/assets/colab-badge.svg\" alt=\"Open In Colab\"/></a>"
      ]
    },
    {
      "cell_type": "code",
      "execution_count": 36,
      "metadata": {
        "id": "MIFQh33tL4rJ"
      },
      "outputs": [],
      "source": []
    },
    {
      "cell_type": "markdown",
      "source": [
        "Data analysis and Data Processing\n",
        "\n",
        "NumPy"
      ],
      "metadata": {
        "id": "WmX4OzNYPm3R"
      }
    },
    {
      "cell_type": "code",
      "source": [
        "# Ndarray : N demensional array\n",
        "import numpy as np\n",
        "arr1 = np.array([1,2,3])\n",
        "arr2 = arr1 * 5\n",
        "print(arr2)"
      ],
      "metadata": {
        "colab": {
          "base_uri": "https://localhost:8080/"
        },
        "id": "CD071KPkP4eH",
        "outputId": "83a82bd5-2fad-4f2e-874d-f238c6a4d303"
      },
      "execution_count": 37,
      "outputs": [
        {
          "output_type": "stream",
          "name": "stdout",
          "text": [
            "[ 5 10 15]\n"
          ]
        }
      ]
    },
    {
      "cell_type": "markdown",
      "source": [
        "Ndarray"
      ],
      "metadata": {
        "id": "15nT1rC_QmlK"
      }
    },
    {
      "cell_type": "code",
      "source": [
        "import numpy as np\n",
        "arr1 = np.array([1, 2, 3, 4,5])\n",
        "print(type(arr1))\n",
        "print(arr1.ndim)\n",
        "\n",
        "# 2D array\n",
        "arr2 = np.array([[1, 2, 3], #row 1\n",
        "                 [4, 5, 6] # row 2\n",
        "                 ])\n",
        "print(arr2.ndim)\n",
        "\n",
        "\n",
        "# 3D array :- 3D array holo ekta array vitor onek ghula 2D array\n",
        "arr3 = np.array([\n",
        "    # 1st floor\n",
        "    [[1,2,3],# row1\n",
        "     [4,5,6] ], #row2\n",
        "    # 2nd floor\n",
        "    [[1,2,3],# row1\n",
        "     [4,5,6] ]#row2\n",
        "\n",
        "])\n",
        "print(arr3.ndim)"
      ],
      "metadata": {
        "colab": {
          "base_uri": "https://localhost:8080/"
        },
        "id": "Rnvpk89tQrny",
        "outputId": "75bf9926-edad-4f2f-ae35-56d6e315da89"
      },
      "execution_count": 38,
      "outputs": [
        {
          "output_type": "stream",
          "name": "stdout",
          "text": [
            "<class 'numpy.ndarray'>\n",
            "1\n",
            "2\n",
            "3\n"
          ]
        }
      ]
    },
    {
      "cell_type": "markdown",
      "source": [
        "Array Attributes"
      ],
      "metadata": {
        "id": "PM1BLFMeXWkO"
      }
    },
    {
      "cell_type": "code",
      "source": [
        "# dimension\n",
        "print(arr1.ndim)\n",
        "print(arr2.ndim)\n",
        "print(arr3.ndim)\n",
        "\n",
        "\n",
        "#shape\n",
        "print(arr1.shape)\n",
        "print(arr2.shape)\n",
        "print(arr3.shape)\n",
        "\n",
        "\n",
        "# datatype\n",
        "print(arr1.dtype)\n",
        "print(arr2.dtype)\n",
        "print(arr3.dtype)\n",
        "\n",
        "\n",
        "\n",
        "# size\n",
        "print(arr1.size)\n",
        "print(arr2.size)\n",
        "print(arr3.size)\n"
      ],
      "metadata": {
        "colab": {
          "base_uri": "https://localhost:8080/"
        },
        "id": "seBMgkvMXWPH",
        "outputId": "451d460d-c9fa-41f3-e06c-d12e492106ac"
      },
      "execution_count": 39,
      "outputs": [
        {
          "output_type": "stream",
          "name": "stdout",
          "text": [
            "1\n",
            "2\n",
            "3\n",
            "(5,)\n",
            "(2, 3)\n",
            "(2, 2, 3)\n",
            "int64\n",
            "int64\n",
            "int64\n",
            "5\n",
            "6\n",
            "12\n"
          ]
        }
      ]
    },
    {
      "cell_type": "markdown",
      "source": [
        "DataType"
      ],
      "metadata": {
        "id": "durp168ocj2f"
      }
    },
    {
      "cell_type": "code",
      "source": [
        "arr1 = np.array([1,2,3])\n",
        "print(arr1.dtype)\n",
        "\n",
        "arr2 = np.array([1.5 , 6.7, 7.0])\n",
        "print(arr2.dtype)\n",
        "\n",
        "arr3 = np.array([1, 6, 7.0])\n",
        "print(arr3.dtype)\n",
        "\n",
        "arr4 = np.array([1, 6.7, '3'])\n",
        "print(arr4.dtype)"
      ],
      "metadata": {
        "colab": {
          "base_uri": "https://localhost:8080/"
        },
        "id": "USMZVu0ecm92",
        "outputId": "b36a34e6-708c-4da2-fa41-58c59f2bab09"
      },
      "execution_count": 40,
      "outputs": [
        {
          "output_type": "stream",
          "name": "stdout",
          "text": [
            "int64\n",
            "float64\n",
            "float64\n",
            "<U32\n"
          ]
        }
      ]
    },
    {
      "cell_type": "code",
      "source": [
        "# selection of datatype\n",
        "import numpy as np\n",
        "arr1 = np.array([1,2,3], dtype =np.int8)\n",
        "print(arr1.dtype)\n",
        "arr1 = arr1.astype(np.int16)\n",
        "print(arr1.dtype)"
      ],
      "metadata": {
        "colab": {
          "base_uri": "https://localhost:8080/"
        },
        "id": "0dtJy-L49h2a",
        "outputId": "56cd47a5-88e1-4c90-e594-4494307b96c9"
      },
      "execution_count": 41,
      "outputs": [
        {
          "output_type": "stream",
          "name": "stdout",
          "text": [
            "int8\n",
            "int16\n"
          ]
        }
      ]
    },
    {
      "cell_type": "markdown",
      "source": [
        "ndarray creation from existing data :\n"
      ],
      "metadata": {
        "id": "wFeN7zz_AA3Y"
      }
    },
    {
      "cell_type": "code",
      "source": [
        "# List\n",
        "lst = [10,20,30,40.5]\n",
        "arr = np.array(lst)\n",
        "arr1 =arr.astype(np.int32)\n",
        "print(arr)\n",
        "print(type(arr))\n",
        "print(arr1.dtype)\n",
        "\n",
        "\n",
        "lst1 =[10, True, 'abc',19.5]\n",
        "arr2 = np.array(lst1)\n",
        "print(arr2)\n",
        "print(arr2.dtype)\n",
        "\n",
        "\n",
        "\n",
        "\n",
        "#matrix\n",
        "matrix = np.array([[1, 2, 3], #row 1\n",
        "                 [4, 5, 6] # row 2\n",
        "                 ])\n",
        "arr = np.array(matrix)\n",
        "print(arr)\n",
        "print(type(arr))\n",
        "print(arr.dtype)\n",
        "print(arr.shape)\n",
        "print(arr.ndim)"
      ],
      "metadata": {
        "colab": {
          "base_uri": "https://localhost:8080/"
        },
        "id": "QUVt-ixrAJ3w",
        "outputId": "480ebb10-35e4-4a4e-a590-a21710e77751"
      },
      "execution_count": 42,
      "outputs": [
        {
          "output_type": "stream",
          "name": "stdout",
          "text": [
            "[10.  20.  30.  40.5]\n",
            "<class 'numpy.ndarray'>\n",
            "int32\n",
            "['10' 'True' 'abc' '19.5']\n",
            "<U32\n",
            "[[1 2 3]\n",
            " [4 5 6]]\n",
            "<class 'numpy.ndarray'>\n",
            "int64\n",
            "(2, 3)\n",
            "2\n"
          ]
        }
      ]
    },
    {
      "cell_type": "code",
      "source": [
        "# tuple\n",
        "tpl =(10,20,30)\n",
        "arr = np.array(tpl)\n",
        "print(arr)\n",
        "print(type(arr))\n",
        "print(arr.dtype)\n",
        "print(arr.shape)\n",
        "print(arr.ndim)"
      ],
      "metadata": {
        "colab": {
          "base_uri": "https://localhost:8080/"
        },
        "id": "CpblN9mmDtcw",
        "outputId": "6bfef78d-9578-4fe9-972a-22981b26ef70"
      },
      "execution_count": 43,
      "outputs": [
        {
          "output_type": "stream",
          "name": "stdout",
          "text": [
            "[10 20 30]\n",
            "<class 'numpy.ndarray'>\n",
            "int64\n",
            "(3,)\n",
            "1\n"
          ]
        }
      ]
    },
    {
      "cell_type": "code",
      "source": [
        "# Set\n",
        "St ={10, 60, 50 ,70}\n",
        "arr = np.array(St)\n",
        "print(arr)\n",
        "print(type(arr))\n",
        "print(arr.dtype)\n",
        "print(arr.shape)\n",
        "print(arr.ndim)"
      ],
      "metadata": {
        "colab": {
          "base_uri": "https://localhost:8080/"
        },
        "id": "LuZaxBYEEFlI",
        "outputId": "47c49ccb-5587-4890-d949-66dfddad99b1"
      },
      "execution_count": 44,
      "outputs": [
        {
          "output_type": "stream",
          "name": "stdout",
          "text": [
            "{10, 60, 50, 70}\n",
            "<class 'numpy.ndarray'>\n",
            "object\n",
            "()\n",
            "0\n"
          ]
        }
      ]
    },
    {
      "cell_type": "code",
      "source": [
        "# Set cover list *** list e covert kore nite hoy\n",
        "St ={10, 60, 50 ,70}\n",
        "arr = np.array(list(St))\n",
        "arr = arr.astype(np.int32)\n",
        "print(arr)\n",
        "print(type(arr))\n",
        "print(arr.dtype)\n",
        "print(arr.shape)\n",
        "print(arr.ndim)"
      ],
      "metadata": {
        "colab": {
          "base_uri": "https://localhost:8080/"
        },
        "id": "YQW2N19mFI6Y",
        "outputId": "53693b57-2ffa-4e49-8a30-7bdd7fc3e9c4"
      },
      "execution_count": 45,
      "outputs": [
        {
          "output_type": "stream",
          "name": "stdout",
          "text": [
            "[10 60 50 70]\n",
            "<class 'numpy.ndarray'>\n",
            "int32\n",
            "(4,)\n",
            "1\n"
          ]
        }
      ]
    },
    {
      "cell_type": "code",
      "source": [
        "# dictionary\n",
        "dc = {'a':10, 'b':20, 'c':30}\n",
        "#arr = np.array(dc)\n",
        "#print(type(dc))\n",
        "keys = dc.keys()\n",
        "print(keys)\n",
        "values = dc.values()\n",
        "print(values)\n",
        "items = dc.items()\n",
        "print(items)"
      ],
      "metadata": {
        "colab": {
          "base_uri": "https://localhost:8080/"
        },
        "id": "bjwbq5YFF-lo",
        "outputId": "2876387e-2618-4343-fd06-79535be6c890"
      },
      "execution_count": 46,
      "outputs": [
        {
          "output_type": "stream",
          "name": "stdout",
          "text": [
            "dict_keys(['a', 'b', 'c'])\n",
            "dict_values([10, 20, 30])\n",
            "dict_items([('a', 10), ('b', 20), ('c', 30)])\n"
          ]
        }
      ]
    },
    {
      "cell_type": "code",
      "source": [
        "# dictionary\n",
        "dc = {'a':10, 'b':20, 'c':30}\n",
        "#arr = np.array(dc)\n",
        "#print(type(dc))\n",
        "arr = np.array(list(keys))\n",
        "print(arr)\n",
        "keys = dc.keys()\n",
        "print(keys)\n",
        "print(arr.shape)\n",
        "print(arr.dtype)\n",
        "values = dc.values()\n",
        "print(values)\n",
        "items = dc.items()\n",
        "print(items)\n",
        "print(arr.size)"
      ],
      "metadata": {
        "colab": {
          "base_uri": "https://localhost:8080/"
        },
        "id": "aGnnFsm5ymoo",
        "outputId": "85048bb3-32ee-416d-a23f-3b7b67ffd68b"
      },
      "execution_count": 47,
      "outputs": [
        {
          "output_type": "stream",
          "name": "stdout",
          "text": [
            "['a' 'b' 'c']\n",
            "dict_keys(['a', 'b', 'c'])\n",
            "(3,)\n",
            "<U1\n",
            "dict_values([10, 20, 30])\n",
            "dict_items([('a', 10), ('b', 20), ('c', 30)])\n",
            "3\n"
          ]
        }
      ]
    },
    {
      "cell_type": "code",
      "source": [
        "# values to ndarray\n",
        "dc = {'a':10, 'b':20, 'c':30}\n",
        "#arr = np.array(dc)\n",
        "#print(type(dc))\n",
        "arr = np.array(list(values))\n",
        "print(arr)\n",
        "print(type(arr))\n",
        "print(arr.shape)\n",
        "print(arr.dtype)\n",
        "values = dc.values()\n",
        "print(values)\n",
        "items = dc.items()\n",
        "print(items)\n",
        "print(arr.size)"
      ],
      "metadata": {
        "colab": {
          "base_uri": "https://localhost:8080/"
        },
        "id": "r8iYLcGc0Pho",
        "outputId": "0961772b-56f2-44ab-b812-4637a1dd312c"
      },
      "execution_count": 48,
      "outputs": [
        {
          "output_type": "stream",
          "name": "stdout",
          "text": [
            "[10 20 30]\n",
            "<class 'numpy.ndarray'>\n",
            "(3,)\n",
            "int64\n",
            "dict_values([10, 20, 30])\n",
            "dict_items([('a', 10), ('b', 20), ('c', 30)])\n",
            "3\n"
          ]
        }
      ]
    },
    {
      "cell_type": "code",
      "source": [
        "# Items to ndarray\n",
        "dc = {'a':10, 'b':20, 'c':30}\n",
        "#arr = np.array(dc)\n",
        "#print(type(dc))\n",
        "arr = np.array(list(items))\n",
        "print(arr)\n",
        "print(type(arr))\n",
        "print(arr.dtype)\n",
        "print(arr.shape)\n",
        "print(values)\n",
        "print(arr.size)\n",
        "print(keys)\n",
        "print(arr.ndim)"
      ],
      "metadata": {
        "colab": {
          "base_uri": "https://localhost:8080/"
        },
        "id": "4IeYSvel0xRh",
        "outputId": "dba37568-f110-4f9e-cbbd-ef6415654f2f"
      },
      "execution_count": 49,
      "outputs": [
        {
          "output_type": "stream",
          "name": "stdout",
          "text": [
            "[['a' '10']\n",
            " ['b' '20']\n",
            " ['c' '30']]\n",
            "<class 'numpy.ndarray'>\n",
            "<U21\n",
            "(3, 2)\n",
            "dict_values([10, 20, 30])\n",
            "6\n",
            "dict_keys(['a', 'b', 'c'])\n",
            "2\n"
          ]
        }
      ]
    },
    {
      "cell_type": "code",
      "source": [
        "# np.zeros\n",
        "\n",
        "arr =np.zeros((2,3),dtype =np.int8)\n",
        "\n",
        "print(arr)\n",
        "print(type(arr))\n",
        "print(arr.dtype)\n",
        "print(arr.shape)\n",
        "arr = np.zeros_like(arr3)\n",
        "print(arr)\n",
        "print(arr.ndim)\n",
        "print(arr.size)"
      ],
      "metadata": {
        "colab": {
          "base_uri": "https://localhost:8080/"
        },
        "id": "Wf96jsPj2J4j",
        "outputId": "4406eb8d-81d6-42c6-9ba4-cb28a05ba10c"
      },
      "execution_count": 50,
      "outputs": [
        {
          "output_type": "stream",
          "name": "stdout",
          "text": [
            "[[0 0 0]\n",
            " [0 0 0]]\n",
            "<class 'numpy.ndarray'>\n",
            "int8\n",
            "(2, 3)\n",
            "[0. 0. 0.]\n",
            "1\n",
            "3\n"
          ]
        }
      ]
    },
    {
      "cell_type": "code",
      "source": [
        "# np.ones\n",
        "\n",
        "arr =np.ones((3,4,3),dtype =np.int8)\n",
        "\n",
        "print(arr)\n",
        "print(type(arr))\n",
        "print(arr.dtype)\n",
        "print(arr.shape)\n",
        "arr = np.ones_like(arr3)\n",
        "print(arr)\n",
        "print(arr.ndim)\n",
        "print(arr.size)"
      ],
      "metadata": {
        "colab": {
          "base_uri": "https://localhost:8080/"
        },
        "id": "aNUL11hD4Ml5",
        "outputId": "c81788e4-5b6f-43e2-f800-2d2e204b03cd"
      },
      "execution_count": 51,
      "outputs": [
        {
          "output_type": "stream",
          "name": "stdout",
          "text": [
            "[[[1 1 1]\n",
            "  [1 1 1]\n",
            "  [1 1 1]\n",
            "  [1 1 1]]\n",
            "\n",
            " [[1 1 1]\n",
            "  [1 1 1]\n",
            "  [1 1 1]\n",
            "  [1 1 1]]\n",
            "\n",
            " [[1 1 1]\n",
            "  [1 1 1]\n",
            "  [1 1 1]\n",
            "  [1 1 1]]]\n",
            "<class 'numpy.ndarray'>\n",
            "int8\n",
            "(3, 4, 3)\n",
            "[1. 1. 1.]\n",
            "1\n",
            "3\n"
          ]
        }
      ]
    },
    {
      "cell_type": "code",
      "source": [
        "# np.empty\n",
        "\n",
        "arr =np.empty((4,3),dtype =np.int8)\n",
        "\n",
        "print(arr)\n",
        "print(type(arr))\n",
        "print(arr.dtype)\n",
        "print(arr.shape)\n",
        "print(arr.ndim)\n",
        "print(arr.size)\n",
        "\n",
        "arr = np.empty_like(arr3)\n",
        "print(arr)\n",
        "print(arr.shape)"
      ],
      "metadata": {
        "colab": {
          "base_uri": "https://localhost:8080/"
        },
        "id": "BxYce94h475B",
        "outputId": "6b82851d-427e-4794-95b4-59b5d6296378"
      },
      "execution_count": 52,
      "outputs": [
        {
          "output_type": "stream",
          "name": "stdout",
          "text": [
            "[[97  0  0]\n",
            " [ 0 98  0]\n",
            " [ 0  0 99]\n",
            " [ 0  0  0]]\n",
            "<class 'numpy.ndarray'>\n",
            "int8\n",
            "(4, 3)\n",
            "2\n",
            "12\n",
            "[1. 1. 1.]\n",
            "(3,)\n"
          ]
        }
      ]
    },
    {
      "cell_type": "code",
      "source": [
        "#np.full\n",
        "\n",
        "arr =np.full((4,3),10)\n",
        "\n",
        "print(arr)\n",
        "print(type(arr))\n",
        "print(arr.dtype)\n",
        "print(arr.shape)\n",
        "print(arr.ndim)\n",
        "print(arr.size)\n",
        "\n",
        "arr = np.full_like(arr3,10.5)\n",
        "print(arr)\n",
        "print(arr.shape)"
      ],
      "metadata": {
        "colab": {
          "base_uri": "https://localhost:8080/"
        },
        "id": "95_C2LNS6EYy",
        "outputId": "10fe14af-276c-4a3a-ab24-1feb20503c69"
      },
      "execution_count": 53,
      "outputs": [
        {
          "output_type": "stream",
          "name": "stdout",
          "text": [
            "[[10 10 10]\n",
            " [10 10 10]\n",
            " [10 10 10]\n",
            " [10 10 10]]\n",
            "<class 'numpy.ndarray'>\n",
            "int64\n",
            "(4, 3)\n",
            "2\n",
            "12\n",
            "[10.5 10.5 10.5]\n",
            "(3,)\n"
          ]
        }
      ]
    },
    {
      "cell_type": "code",
      "source": [
        "arr = np.random.rand(2,3)\n",
        "print(arr)\n",
        "print(type(arr))\n",
        "print(arr.dtype)\n",
        "print(arr.shape)\n",
        "print(arr.ndim)\n",
        "print(arr.size)"
      ],
      "metadata": {
        "colab": {
          "base_uri": "https://localhost:8080/"
        },
        "id": "DVg4AKAkEcqz",
        "outputId": "22367b7b-34fd-4ad0-8c0c-bb38fac6fac1"
      },
      "execution_count": 54,
      "outputs": [
        {
          "output_type": "stream",
          "name": "stdout",
          "text": [
            "[[0.9274467  0.39512645 0.62731093]\n",
            " [0.93282568 0.24405889 0.33646647]]\n",
            "<class 'numpy.ndarray'>\n",
            "float64\n",
            "(2, 3)\n",
            "2\n",
            "6\n"
          ]
        }
      ]
    },
    {
      "cell_type": "code",
      "source": [
        "arr = np.random.randint(1,10,(2,3)) # randint dile data type int dekhabe\n",
        "print(arr)\n",
        "print(type(arr))\n",
        "print(arr.shape)\n",
        "print(arr.ndim)\n",
        "print(arr.size)"
      ],
      "metadata": {
        "colab": {
          "base_uri": "https://localhost:8080/"
        },
        "id": "WTHXgT8QVJgO",
        "outputId": "9267f0fc-3722-412e-d92e-5f67f47c8475"
      },
      "execution_count": 55,
      "outputs": [
        {
          "output_type": "stream",
          "name": "stdout",
          "text": [
            "[[9 2 7]\n",
            " [3 7 4]]\n",
            "<class 'numpy.ndarray'>\n",
            "(2, 3)\n",
            "2\n",
            "6\n"
          ]
        }
      ]
    },
    {
      "cell_type": "code",
      "source": [
        "arr = np.random.uniform(50,100,(3,4)) # uniform dile float dekhabe\n",
        "print(arr)\n",
        "print(type(arr))\n",
        "print(arr.dtype)\n",
        "print(arr.shape)\n",
        "print(arr.ndim)\n",
        "print(arr.size)"
      ],
      "metadata": {
        "colab": {
          "base_uri": "https://localhost:8080/"
        },
        "id": "-wE4qdNTWJLE",
        "outputId": "a49fc689-d611-4c12-92d5-33440c90386d"
      },
      "execution_count": 56,
      "outputs": [
        {
          "output_type": "stream",
          "name": "stdout",
          "text": [
            "[[89.38589133 57.78852883 77.22681614 86.18118286]\n",
            " [72.37118397 67.47159315 82.37746393 62.13865352]\n",
            " [61.35093018 97.79704203 72.60069424 75.62475027]]\n",
            "<class 'numpy.ndarray'>\n",
            "float64\n",
            "(3, 4)\n",
            "2\n",
            "12\n"
          ]
        }
      ]
    },
    {
      "cell_type": "markdown",
      "source": [
        "**bold text** Array with range function"
      ],
      "metadata": {
        "id": "7h1mYMGHYCG8"
      }
    },
    {
      "cell_type": "code",
      "source": [
        "# np.arange(frist, end, step)-> similer to range function\n",
        "import numpy as np\n",
        "\n",
        "arr = np.arange(1, 10, 1)\n",
        "mat = arr.reshape(3,3)\n",
        "print(arr)\n",
        "print(mat)\n",
        "print(type(arr))\n",
        "print(arr.dtype)\n",
        "print(arr.shape)\n",
        "print(arr.ndim)\n",
        "print(arr.size)"
      ],
      "metadata": {
        "colab": {
          "base_uri": "https://localhost:8080/"
        },
        "id": "VRVBouLsYg7k",
        "outputId": "b9d5dc42-a1f6-4fc5-88c2-08a35d21eeeb"
      },
      "execution_count": 57,
      "outputs": [
        {
          "output_type": "stream",
          "name": "stdout",
          "text": [
            "[1 2 3 4 5 6 7 8 9]\n",
            "[[1 2 3]\n",
            " [4 5 6]\n",
            " [7 8 9]]\n",
            "<class 'numpy.ndarray'>\n",
            "int64\n",
            "(9,)\n",
            "1\n",
            "9\n"
          ]
        }
      ]
    },
    {
      "cell_type": "code",
      "source": [
        "# np.linespace(start, end, koita)\n",
        "import numpy as np\n",
        "arr = np.linspace(1, 10, 10)\n",
        "print(arr)\n",
        "print(type(arr))\n",
        "print(arr.dtype)\n",
        "print(arr.shape)\n",
        "print(arr.ndim)\n",
        "print(arr.size)\n"
      ],
      "metadata": {
        "colab": {
          "base_uri": "https://localhost:8080/"
        },
        "id": "3Bwg4UHQh52I",
        "outputId": "22cc0230-e529-4fc3-cf90-889202410c8b"
      },
      "execution_count": 58,
      "outputs": [
        {
          "output_type": "stream",
          "name": "stdout",
          "text": [
            "[ 1.  2.  3.  4.  5.  6.  7.  8.  9. 10.]\n",
            "<class 'numpy.ndarray'>\n",
            "float64\n",
            "(10,)\n",
            "1\n",
            "10\n"
          ]
        }
      ]
    },
    {
      "cell_type": "code",
      "source": [
        "#np.logspace\n",
        "arr = np.logspace(0, 4, 6, base =2)\n",
        "print(arr)\n",
        "print(arr.dtype)\n",
        "print(arr.shape)\n",
        "print(arr.ndim)\n",
        "print(arr.size)"
      ],
      "metadata": {
        "colab": {
          "base_uri": "https://localhost:8080/"
        },
        "id": "KFVVEzT3kSF4",
        "outputId": "9151adfa-19ec-400f-dbe6-571f42d211e1"
      },
      "execution_count": 59,
      "outputs": [
        {
          "output_type": "stream",
          "name": "stdout",
          "text": [
            "[ 1.          1.74110113  3.03143313  5.27803164  9.18958684 16.        ]\n",
            "float64\n",
            "(6,)\n",
            "1\n",
            "6\n"
          ]
        }
      ]
    },
    {
      "cell_type": "code",
      "source": [
        "# diogonal matrix\n",
        "diagonal_matrix = np.diag([1,2,3])\n",
        "print(diagonal_matrix)\n",
        "print(diagonal_matrix.shape)"
      ],
      "metadata": {
        "colab": {
          "base_uri": "https://localhost:8080/"
        },
        "id": "9UiP1LOBo04c",
        "outputId": "3d61767a-769e-4e88-970d-0f43820e8963"
      },
      "execution_count": 60,
      "outputs": [
        {
          "output_type": "stream",
          "name": "stdout",
          "text": [
            "[[1 0 0]\n",
            " [0 2 0]\n",
            " [0 0 3]]\n",
            "(3, 3)\n"
          ]
        }
      ]
    },
    {
      "cell_type": "code",
      "source": [
        "# identity matrix\n",
        "\n",
        "\n",
        "identity_matrix =np.eye(4)\n",
        "print(identity_matrix)\n",
        "print(identity_matrix.shape)\n",
        "\n",
        "# np.eye(row,col)\n",
        "mtx =np.eye(3,4,-1)\n",
        "print(mtx)"
      ],
      "metadata": {
        "colab": {
          "base_uri": "https://localhost:8080/"
        },
        "id": "C2RW7uClqVSx",
        "outputId": "2528a567-8151-4d80-f273-51cda0c04370"
      },
      "execution_count": 61,
      "outputs": [
        {
          "output_type": "stream",
          "name": "stdout",
          "text": [
            "[[1. 0. 0. 0.]\n",
            " [0. 1. 0. 0.]\n",
            " [0. 0. 1. 0.]\n",
            " [0. 0. 0. 1.]]\n",
            "(4, 4)\n",
            "[[0. 0. 0. 0.]\n",
            " [1. 0. 0. 0.]\n",
            " [0. 1. 0. 0.]]\n"
          ]
        }
      ]
    },
    {
      "cell_type": "code",
      "source": [
        "# indexing and slicing\n",
        "print(arr1)\n",
        "print(arr2)\n",
        "print(arr1[2])\n",
        "arr1[2] =100\n",
        "print(arr1)"
      ],
      "metadata": {
        "colab": {
          "base_uri": "https://localhost:8080/"
        },
        "id": "2GQOwk4Qr3FZ",
        "outputId": "e9a08431-83ff-4d73-bd14-af8737bbe80b"
      },
      "execution_count": 62,
      "outputs": [
        {
          "output_type": "stream",
          "name": "stdout",
          "text": [
            "[10 20 30 40]\n",
            "['10' 'True' 'abc' '19.5']\n",
            "30\n",
            "[ 10  20 100  40]\n"
          ]
        }
      ]
    },
    {
      "cell_type": "code",
      "source": [
        "arr1_mod = arr1[1:4]\n",
        "print(arr1_mod)"
      ],
      "metadata": {
        "colab": {
          "base_uri": "https://localhost:8080/"
        },
        "id": "84M0ATOktYUS",
        "outputId": "5d9ab9c4-456d-4b72-8aa1-0e87b7183a29"
      },
      "execution_count": 63,
      "outputs": [
        {
          "output_type": "stream",
          "name": "stdout",
          "text": [
            "[ 20 100  40]\n"
          ]
        }
      ]
    },
    {
      "cell_type": "code",
      "source": [
        "arr = np.array([1,2,3])\n",
        "print(arr.ndim)"
      ],
      "metadata": {
        "colab": {
          "base_uri": "https://localhost:8080/"
        },
        "id": "ImLA461_xsER",
        "outputId": "923dd3ff-25be-4562-8af3-c23fd2751bb1"
      },
      "execution_count": 64,
      "outputs": [
        {
          "output_type": "stream",
          "name": "stdout",
          "text": [
            "1\n"
          ]
        }
      ]
    },
    {
      "cell_type": "code",
      "source": [
        "arr = np.linspace(0,10,5)\n",
        "print(arr)"
      ],
      "metadata": {
        "colab": {
          "base_uri": "https://localhost:8080/"
        },
        "id": "raiuxRjvyrkn",
        "outputId": "e2099b8b-89aa-4539-d877-2c677528dbf1"
      },
      "execution_count": 65,
      "outputs": [
        {
          "output_type": "stream",
          "name": "stdout",
          "text": [
            "[ 0.   2.5  5.   7.5 10. ]\n"
          ]
        }
      ]
    },
    {
      "cell_type": "code",
      "source": [
        "arr = np.full([[10,20,30],[40,50,60]])\n",
        "arr =arr[:1]\n",
        "print(arr)"
      ],
      "metadata": {
        "colab": {
          "base_uri": "https://localhost:8080/",
          "height": 176
        },
        "id": "StDyRKRLzK6p",
        "outputId": "cda6d804-0cb7-437c-f015-2f7f287ffd6b"
      },
      "execution_count": 67,
      "outputs": [
        {
          "output_type": "error",
          "ename": "TypeError",
          "evalue": "full() missing 1 required positional argument: 'fill_value'",
          "traceback": [
            "\u001b[0;31m---------------------------------------------------------------------------\u001b[0m",
            "\u001b[0;31mTypeError\u001b[0m                                 Traceback (most recent call last)",
            "\u001b[0;32m/tmp/ipython-input-37464766.py\u001b[0m in \u001b[0;36m<cell line: 0>\u001b[0;34m()\u001b[0m\n\u001b[0;32m----> 1\u001b[0;31m \u001b[0marr\u001b[0m \u001b[0;34m=\u001b[0m \u001b[0mnp\u001b[0m\u001b[0;34m.\u001b[0m\u001b[0mfull\u001b[0m\u001b[0;34m(\u001b[0m\u001b[0;34m[\u001b[0m\u001b[0;34m[\u001b[0m\u001b[0;36m10\u001b[0m\u001b[0;34m,\u001b[0m\u001b[0;36m20\u001b[0m\u001b[0;34m,\u001b[0m\u001b[0;36m30\u001b[0m\u001b[0;34m]\u001b[0m\u001b[0;34m,\u001b[0m\u001b[0;34m[\u001b[0m\u001b[0;36m40\u001b[0m\u001b[0;34m,\u001b[0m\u001b[0;36m50\u001b[0m\u001b[0;34m,\u001b[0m\u001b[0;36m60\u001b[0m\u001b[0;34m]\u001b[0m\u001b[0;34m]\u001b[0m\u001b[0;34m)\u001b[0m\u001b[0;34m\u001b[0m\u001b[0;34m\u001b[0m\u001b[0m\n\u001b[0m\u001b[1;32m      2\u001b[0m \u001b[0marr\u001b[0m \u001b[0;34m=\u001b[0m\u001b[0marr\u001b[0m\u001b[0;34m[\u001b[0m\u001b[0;34m:\u001b[0m\u001b[0;36m1\u001b[0m\u001b[0;34m]\u001b[0m\u001b[0;34m\u001b[0m\u001b[0;34m\u001b[0m\u001b[0m\n\u001b[1;32m      3\u001b[0m \u001b[0mprint\u001b[0m\u001b[0;34m(\u001b[0m\u001b[0marr\u001b[0m\u001b[0;34m)\u001b[0m\u001b[0;34m\u001b[0m\u001b[0;34m\u001b[0m\u001b[0m\n",
            "\u001b[0;31mTypeError\u001b[0m: full() missing 1 required positional argument: 'fill_value'"
          ]
        }
      ]
    },
    {
      "cell_type": "code",
      "source": [
        "arr = np.array([1,2,3,4,5])\n",
        "arr[1:4] =0\n",
        "print(arr)"
      ],
      "metadata": {
        "colab": {
          "base_uri": "https://localhost:8080/"
        },
        "id": "YgsyU4cA0J9a",
        "outputId": "12418514-e58a-4fd8-e724-4a973602104a"
      },
      "execution_count": 69,
      "outputs": [
        {
          "output_type": "stream",
          "name": "stdout",
          "text": [
            "[1 0 0 0 5]\n"
          ]
        }
      ]
    }
  ]
}