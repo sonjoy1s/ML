{
  "nbformat": 4,
  "nbformat_minor": 0,
  "metadata": {
    "colab": {
      "provenance": [],
      "authorship_tag": "ABX9TyNiNJlIRb055/dy3QrB+shZ",
      "include_colab_link": true
    },
    "kernelspec": {
      "name": "python3",
      "display_name": "Python 3"
    },
    "language_info": {
      "name": "python"
    }
  },
  "cells": [
    {
      "cell_type": "markdown",
      "metadata": {
        "id": "view-in-github",
        "colab_type": "text"
      },
      "source": [
        "<a href=\"https://colab.research.google.com/github/sonjoy1s/ML/blob/main/Untitled10.ipynb\" target=\"_parent\"><img src=\"https://colab.research.google.com/assets/colab-badge.svg\" alt=\"Open In Colab\"/></a>"
      ]
    },
    {
      "cell_type": "code",
      "execution_count": null,
      "metadata": {
        "colab": {
          "base_uri": "https://localhost:8080/",
          "height": 141
        },
        "id": "GItSAIAyiLp_",
        "outputId": "20226525-3d83-4e23-ef5a-d3ff2829aa32"
      },
      "outputs": [
        {
          "output_type": "error",
          "ename": "SyntaxError",
          "evalue": "closing parenthesis ']' does not match opening parenthesis '(' (ipython-input-961906431.py, line 4)",
          "traceback": [
            "\u001b[0;36m  File \u001b[0;32m\"/tmp/ipython-input-961906431.py\"\u001b[0;36m, line \u001b[0;32m4\u001b[0m\n\u001b[0;31m    df = products[((products['low_fats'] == 'Y') & (products['recyclable'] == 'Y')]\u001b[0m\n\u001b[0m                                                                                  ^\u001b[0m\n\u001b[0;31mSyntaxError\u001b[0m\u001b[0;31m:\u001b[0m closing parenthesis ']' does not match opening parenthesis '('\n"
          ]
        }
      ],
      "source": [
        "import pandas as pd\n",
        "\n",
        "def find_products(products: pd.DataFrame) -> pd.DataFrame:\n",
        "    # Filter for products that are both low_fats='Y' AND recyclable='Y'\n",
        "    df = products[((products['low_fats'] == 'Y') & (products['recyclable'] == 'Y'))]\n",
        "    return df[['product_id']]"
      ]
    },
    {
      "cell_type": "code",
      "source": [
        "import pandas as pd\n",
        "\n",
        "def combine_two_tables(person: pd.DataFrame, address: pd.DataFrame) -> pd.DataFrame:\n",
        "   df = pd.marge(person,address,on='personId', how='left')\n",
        "   return df[['firstName', 'lastName','city','state']]"
      ],
      "metadata": {
        "id": "5V_8oSTuzufT"
      },
      "execution_count": 7,
      "outputs": []
    },
    {
      "cell_type": "code",
      "source": [
        "import pandas as pd\n",
        "\n",
        "# Person table\n",
        "person_data = [\n",
        "    [1, 'Alice', 'Smith'],\n",
        "    [2, 'Bob', 'Johnson'],\n",
        "    [3, 'Charlie', 'Lee']\n",
        "]\n",
        "person = pd.DataFrame(person_data, columns=['personId', 'firstName', 'lastName'])\n",
        "\n",
        "# Address table\n",
        "address_data = [\n",
        "    [1, 'New', 'NY'],\n",
        "    [2, 'Delhi', 'DL']\n",
        "]\n",
        "address = pd.DataFrame(address_data, columns=['personId', 'city', 'state'])\n"
      ],
      "metadata": {
        "id": "rvbO_ndKDdRS"
      },
      "execution_count": 8,
      "outputs": []
    },
    {
      "cell_type": "code",
      "source": [
        "result = pd.merge(person, address, on='personId', how='left')\n",
        "print(result)"
      ],
      "metadata": {
        "colab": {
          "base_uri": "https://localhost:8080/"
        },
        "id": "IIz_cgdoDfiN",
        "outputId": "e66a1caa-869b-467a-b95b-4d63e2f23393"
      },
      "execution_count": 9,
      "outputs": [
        {
          "output_type": "stream",
          "name": "stdout",
          "text": [
            "   personId firstName lastName   city state\n",
            "0         1     Alice    Smith    New    NY\n",
            "1         2       Bob  Johnson  Delhi    DL\n",
            "2         3   Charlie      Lee    NaN   NaN\n"
          ]
        }
      ]
    },
    {
      "cell_type": "code",
      "source": [
        "data = [\n",
        "    [0, 'Y', 'N'],\n",
        "    [1, 'Y', 'Y'],\n",
        "    [2, 'N', 'Y'],\n",
        "    [3, 'Y', 'Y'],\n",
        "    [4, 'N', 'N']\n",
        "]\n",
        "products = pd.DataFrame(data, columns=['product_id', 'low_fats', 'recyclable'])\n",
        "\n",
        "print(products)\n"
      ],
      "metadata": {
        "colab": {
          "base_uri": "https://localhost:8080/"
        },
        "id": "93QOF7GbHJ1O",
        "outputId": "19522ca3-1b5f-4469-daa6-bd3b177b1e8a"
      },
      "execution_count": 11,
      "outputs": [
        {
          "output_type": "stream",
          "name": "stdout",
          "text": [
            "   product_id low_fats recyclable\n",
            "0           0        Y          N\n",
            "1           1        Y          Y\n",
            "2           2        N          Y\n",
            "3           3        Y          Y\n",
            "4           4        N          N\n"
          ]
        }
      ]
    },
    {
      "cell_type": "markdown",
      "source": [
        "1.Create a Pandas Series from the list [10, 20, 30, 40, 50]. Print the Series, its index, and data type. Then create a DataFrame with columns \"Name\", \"Age\", and \"City\" containing at least 4 rows of data.\n"
      ],
      "metadata": {
        "id": "kTxojoIWdxCz"
      }
    },
    {
      "cell_type": "code",
      "source": [
        "import pandas as pd\n",
        "lst = [10,20,30,40,50]\n",
        "series = pd.Series(lst)\n",
        "print(series)\n",
        "series.index\n",
        "print(type(series))"
      ],
      "metadata": {
        "colab": {
          "base_uri": "https://localhost:8080/"
        },
        "id": "D0hQWY5XdvBE",
        "outputId": "9450f712-9967-4971-9fec-b9e090147ac5"
      },
      "execution_count": 15,
      "outputs": [
        {
          "output_type": "stream",
          "name": "stdout",
          "text": [
            "0    10\n",
            "1    20\n",
            "2    30\n",
            "3    40\n",
            "4    50\n",
            "dtype: int64\n",
            "<class 'pandas.core.series.Series'>\n"
          ]
        }
      ]
    },
    {
      "cell_type": "code",
      "source": [
        "data_dict ={\n",
        "    'Namne':['Alice', 'Bob', 'Roy','Sonjoy'],\n",
        "    'Age':[25,30,40,21],\n",
        "    'City':['Mymensing','Khulna','Tangail','Dhaka']\n",
        "}\n",
        "df = pd.DataFrame(data_dict)\n",
        "print(df)"
      ],
      "metadata": {
        "colab": {
          "base_uri": "https://localhost:8080/"
        },
        "id": "nH4GzwRbfUnU",
        "outputId": "da3bf6de-5216-4b8b-a773-1cd32e96c33c"
      },
      "execution_count": 16,
      "outputs": [
        {
          "output_type": "stream",
          "name": "stdout",
          "text": [
            "    Namne  Age       City\n",
            "0   Alice   25  Mymensing\n",
            "1     Bob   30     Khulna\n",
            "2     Roy   40    Tangail\n",
            "3  Sonjoy   21      Dhaka\n"
          ]
        }
      ]
    },
    {
      "cell_type": "code",
      "source": [
        "import numpy as np\n",
        "\n",
        "def matrixmul(a:list[list[int|float]],\n",
        "              b:list[list[int|float]])-> list[list[int|float]]:\n",
        "              if np.array(a).shape[1] != np.array(b).shape[0]:\n",
        "                  return -1\n",
        "              else:\n",
        "                  c = np.dot(np.array(a), np.array(b))\n",
        "                  return c"
      ],
      "metadata": {
        "id": "GRJpQq_Lktu9"
      },
      "execution_count": 19,
      "outputs": []
    }
  ]
}